{
 "cells": [
  {
   "cell_type": "code",
   "execution_count": 1,
   "metadata": {},
   "outputs": [],
   "source": [
    "import pandas as pd\n",
    "import chardet"
   ]
  },
  {
   "cell_type": "code",
   "execution_count": null,
   "metadata": {},
   "outputs": [],
   "source": [
    "df1 = pd.read_csv('./data/CLA_meta_from_2018.csv')\n",
    "\n",
    "# with open('./data/CLA_meta_from_2018.csv','r') as f:\n",
    "   \n",
    "# raw_data= f.read()\n",
    "#    result = chardet.detect(raw_data.encode())\n",
    "#    charenc = result['encoding']\n",
    "#    # set the file-handle to point to the beginning of the file to re-read the file contents.\n",
    "#    f.seek(0,0)\n",
    "#    df = pd.read_csv(f,delimiter=\",\", encoding=charenc)\n",
    "\n",
    "    \n",
    "# df = pd.read_csv('./data/CLA_meta_from_2018_-_Translated.csv', encoding = enc['encoding'])\n",
    "df1.head"
   ]
  },
  {
   "cell_type": "code",
   "execution_count": 3,
   "metadata": {},
   "outputs": [],
   "source": [
    "import pdfminer\n",
    "from pdfminer.high_level import extract_text\n",
    "\n",
    "\n",
    "jcs = df1['jc_number'].unique()\n",
    "\n"
   ]
  },
  {
   "cell_type": "code",
   "execution_count": 4,
   "metadata": {},
   "outputs": [],
   "source": [
    "import os\n",
    "import easyocr\n",
    "import cv2\n",
    "from matplotlib import pyplot as plt\n",
    "import numpy as np"
   ]
  },
  {
   "cell_type": "code",
   "execution_count": 26,
   "metadata": {},
   "outputs": [
    {
     "name": "stdout",
     "output_type": "stream",
     "text": [
      "210\n",
      "((0, 287, 'Unknown', 'un'), (287, 483, 'FRENCH', 'fr'), (770, 38, 'ENGLISH', 'en'), (808, 182, 'FRENCH', 'fr'), (990, 57, 'Unknown', 'un'), (1047, 2681, 'FRENCH', 'fr'), (3728, 3589, 'DUTCH', 'nl'))\n",
      "((0, 154, 'Unknown', 'un'), (154, 2242, 'FRENCH', 'fr'), (2396, 44, 'ENGLISH', 'en'), (2440, 1002, 'FRENCH', 'fr'), (3442, 71, 'Unknown', 'un'), (3513, 3386, 'DUTCH', 'nl'))\n",
      "((0, 155, 'Unknown', 'un'), (155, 2473, 'FRENCH', 'fr'), (2628, 177, 'Unknown', 'un'), (2805, 1083, 'FRENCH', 'fr'), (3888, 225, 'Unknown', 'un'), (4113, 742, 'FRENCH', 'fr'), (4855, 217, 'Unknown', 'un'), (5072, 2837, 'FRENCH', 'fr'), (7909, 164, 'Unknown', 'un'), (8073, 6071, 'FRENCH', 'fr'), (14144, 160, 'Unknown', 'un'), (14304, 7055, 'FRENCH', 'fr'), (21359, 3145, 'DUTCH', 'nl'), (24504, 200, 'Unknown', 'un'), (24704, 8882, 'DUTCH', 'nl'), (33586, 119, 'Unknown', 'un'), (33705, 9199, 'DUTCH', 'nl'))\n",
      "((0, 153, 'Unknown', 'un'), (153, 341, 'FRENCH', 'fr'), (494, 244, 'Unknown', 'un'), (738, 1276, 'FRENCH', 'fr'), (2014, 193, 'Unknown', 'un'), (2207, 508, 'FRENCH', 'fr'), (2715, 359, 'DUTCH', 'nl'), (3074, 343, 'Unknown', 'un'), (3417, 154, 'DUTCH', 'nl'), (3571, 241, 'Unknown', 'un'), (3812, 1605, 'DUTCH', 'nl'))\n",
      "((0, 284, 'Unknown', 'un'), (284, 14461, 'FRENCH', 'fr'), (14745, 14594, 'DUTCH', 'nl'))\n",
      "((0, 153, 'Unknown', 'un'), (153, 519, 'FRENCH', 'fr'), (672, 38, 'ENGLISH', 'en'), (710, 3115, 'FRENCH', 'fr'), (3825, 2621, 'DUTCH', 'nl'), (6446, 130, 'Unknown', 'un'), (6576, 1012, 'DUTCH', 'nl'))\n",
      "((0, 153, 'Unknown', 'un'), (153, 431, 'FRENCH', 'fr'), (584, 196, 'ENGLISH', 'en'), (780, 1683, 'FRENCH', 'fr'), (2463, 44, 'ENGLISH', 'en'), (2507, 1014, 'FRENCH', 'fr'), (3521, 3446, 'DUTCH', 'nl'))\n",
      "((0, 155, 'Unknown', 'un'), (155, 2296, 'FRENCH', 'fr'), (2451, 44, 'ENGLISH', 'en'), (2495, 170, 'Unknown', 'un'), (2665, 832, 'FRENCH', 'fr'), (3497, 3530, 'DUTCH', 'nl'))\n",
      "((0, 153, 'Unknown', 'un'), (153, 2705, 'FRENCH', 'fr'), (2858, 2661, 'DUTCH', 'nl'))\n",
      "((0, 152, 'Unknown', 'un'), (152, 289, 'FRENCH', 'fr'), (441, 283, 'Unknown', 'un'), (724, 309, 'FRENCH', 'fr'), (1033, 188, 'Unknown', 'un'), (1221, 346, 'FRENCH', 'fr'), (1567, 62, 'Unknown', 'un'), (1629, 496, 'DUTCH', 'nl'), (2125, 242, 'Unknown', 'un'), (2367, 588, 'DUTCH', 'nl'), (2955, 271, 'Unknown', 'un'), (3226, 26, 'DUTCH', 'nl'))\n",
      "((0, 133, 'FRENCH', 'fr'), (133, 155, 'DUTCH', 'nl'), (288, 134, 'Unknown', 'un'), (422, 146, 'DUTCH', 'nl'), (568, 162, 'FRENCH', 'fr'), (730, 81, 'DUTCH', 'nl'), (811, 13398, 'FRENCH', 'fr'), (14209, 13143, 'DUTCH', 'nl'))\n",
      "((0, 155, 'Unknown', 'un'), (155, 2258, 'FRENCH', 'fr'), (2413, 44, 'ENGLISH', 'en'), (2457, 1006, 'FRENCH', 'fr'), (3463, 3505, 'DUTCH', 'nl'))\n",
      "((0, 154, 'Unknown', 'un'), (154, 3125, 'FRENCH', 'fr'), (3279, 194, 'Unknown', 'un'), (3473, 3178, 'DUTCH', 'nl'))\n",
      "((0, 151, 'Unknown', 'un'), (151, 1217, 'FRENCH', 'fr'), (1368, 245, 'Unknown', 'un'), (1613, 461, 'FRENCH', 'fr'), (2074, 2079, 'DUTCH', 'nl'))\n",
      "((0, 154, 'Unknown', 'un'), (154, 297, 'FRENCH', 'fr'), (451, 312, 'Unknown', 'un'), (763, 275, 'FRENCH', 'fr'), (1038, 201, 'Unknown', 'un'), (1239, 399, 'FRENCH', 'fr'), (1638, 84, 'Unknown', 'un'), (1722, 415, 'DUTCH', 'nl'), (2137, 264, 'Unknown', 'un'), (2401, 868, 'DUTCH', 'nl'))\n",
      "((0, 155, 'Unknown', 'un'), (155, 632, 'FRENCH', 'fr'), (787, 38, 'ENGLISH', 'en'), (825, 839, 'FRENCH', 'fr'), (1664, 1280, 'DUTCH', 'nl'), (2944, 121, 'AFRIKAANS', 'af'), (3065, 251, 'DUTCH', 'nl'))\n",
      "((0, 153, 'Unknown', 'un'), (153, 1061, 'FRENCH', 'fr'), (1214, 99, 'Unknown', 'un'), (1313, 2924, 'FRENCH', 'fr'), (4237, 83, 'Unknown', 'un'), (4320, 4112, 'DUTCH', 'nl'))\n",
      "((0, 1480, 'FRENCH', 'fr'), (1480, 182, 'Unknown', 'un'), (1662, 627, 'FRENCH', 'fr'), (2289, 25, 'Unknown', 'un'), (2314, 752, 'FRENCH', 'fr'), (3066, 12, 'ENGLISH', 'en'), (3078, 527, 'FRENCH', 'fr'), (3605, 97, 'Unknown', 'un'), (3702, 195, 'FRENCH', 'fr'), (3897, 96, 'ENGLISH', 'en'), (3993, 2908, 'FRENCH', 'fr'), (6901, 24, 'ENGLISH', 'en'), (6925, 4463, 'FRENCH', 'fr'), (11388, 46, 'Unknown', 'un'), (11434, 12662, 'FRENCH', 'fr'), (24096, 9879, 'DUTCH', 'nl'), (33975, 120, 'Unknown', 'un'), (34095, 6607, 'DUTCH', 'nl'), (40702, 151, 'Unknown', 'un'), (40853, 6422, 'DUTCH', 'nl'), (47275, 130, 'Unknown', 'un'), (47405, 873, 'DUTCH', 'nl'))\n",
      "((0, 153, 'Unknown', 'un'), (153, 387, 'FRENCH', 'fr'), (540, 227, 'ENGLISH', 'en'), (767, 1679, 'FRENCH', 'fr'), (2446, 4565, 'ENGLISH', 'en'))\n",
      "((0, 154, 'Unknown', 'un'), (154, 1860, 'FRENCH', 'fr'), (2014, 269, 'Unknown', 'un'), (2283, 541, 'FRENCH', 'fr'), (2824, 2802, 'DUTCH', 'nl'))\n",
      "((0, 153, 'Unknown', 'un'), (153, 4829, 'FRENCH', 'fr'), (4982, 5037, 'DUTCH', 'nl'))\n",
      "((0, 155, 'Unknown', 'un'), (155, 2213, 'FRENCH', 'fr'), (2368, 200, 'ENGLISH', 'en'), (2568, 855, 'FRENCH', 'fr'), (3423, 3432, 'DUTCH', 'nl'))\n",
      "((0, 2077, 'FRENCH', 'fr'), (2077, 2089, 'DUTCH', 'nl'))\n",
      "110\n",
      "((0, 6267, 'FRENCH', 'fr'), (6267, 6112, 'DUTCH', 'nl'))\n",
      "((0, 134, 'Unknown', 'un'), (134, 2960, 'DUTCH', 'nl'), (3094, 255, 'ENGLISH', 'en'), (3349, 516, 'FRENCH', 'fr'), (3865, 73, 'ENGLISH', 'en'), (3938, 2147, 'FRENCH', 'fr'), (6085, 94, 'Unknown', 'un'))\n",
      "((0, 246, 'FRENCH', 'fr'), (246, 48, 'Unknown', 'un'), (294, 4573, 'FRENCH', 'fr'), (4867, 185, 'ENGLISH', 'en'), (5052, 4260, 'FRENCH', 'fr'), (9312, 194, 'ENGLISH', 'en'), (9506, 218, 'FRENCH', 'fr'), (9724, 9577, 'DUTCH', 'nl'))\n",
      "((0, 9240, 'DUTCH', 'nl'), (9240, 1299, 'FRENCH', 'fr'), (10539, 182, 'ENGLISH', 'en'), (10721, 2978, 'FRENCH', 'fr'), (13699, 138, 'ENGLISH', 'en'), (13837, 4263, 'FRENCH', 'fr'), (18100, 193, 'ENGLISH', 'en'), (18293, 218, 'FRENCH', 'fr'))\n",
      "((0, 515, 'FRENCH', 'fr'), (515, 151, 'ENGLISH', 'en'), (666, 298, 'FRENCH', 'fr'), (964, 30, 'ENGLISH', 'en'), (994, 7821, 'FRENCH', 'fr'), (8815, 193, 'ENGLISH', 'en'), (9008, 218, 'FRENCH', 'fr'), (9226, 2993, 'DUTCH', 'nl'), (12219, 95, 'Unknown', 'un'), (12314, 5963, 'DUTCH', 'nl'))\n",
      "((0, 252, 'Unknown', 'un'), (252, 4381, 'DUTCH', 'nl'), (4633, 128, 'Unknown', 'un'), (4761, 1660, 'FRENCH', 'fr'), (6421, 53, 'ENGLISH', 'en'), (6474, 3043, 'FRENCH', 'fr'))\n",
      "((0, 165, 'Unknown', 'un'), (165, 6119, 'DUTCH', 'nl'), (6284, 136, 'Unknown', 'un'), (6420, 787, 'FRENCH', 'fr'), (7207, 61, 'Unknown', 'un'), (7268, 4393, 'FRENCH', 'fr'), (11661, 232, 'Unknown', 'un'), (11893, 907, 'FRENCH', 'fr'))\n",
      "((0, 9605, 'DUTCH', 'nl'), (9605, 123, 'Unknown', 'un'), (9728, 2003, 'FRENCH', 'fr'), (11731, 207, 'Unknown', 'un'), (11938, 7426, 'FRENCH', 'fr'))\n",
      "((0, 174, 'Unknown', 'un'), (174, 5076, 'FRENCH', 'fr'), (5250, 4867, 'DUTCH', 'nl'))\n",
      "((0, 124, 'Unknown', 'un'), (124, 1999, 'DUTCH', 'nl'), (2123, 124, 'AFRIKAANS', 'af'), (2247, 821, 'DUTCH', 'nl'), (3068, 147, 'Unknown', 'un'), (3215, 414, 'DUTCH', 'nl'), (3629, 3879, 'FRENCH', 'fr'))\n",
      "((0, 118, 'Unknown', 'un'), (118, 637, 'DUTCH', 'nl'), (755, 148, 'Unknown', 'un'), (903, 5261, 'DUTCH', 'nl'), (6164, 6617, 'FRENCH', 'fr'))\n",
      "((0, 85, 'Unknown', 'un'), (85, 1893, 'DUTCH', 'nl'), (1978, 94, 'Unknown', 'un'), (2072, 732, 'FRENCH', 'fr'), (2804, 93, 'ENGLISH', 'en'), (2897, 1040, 'FRENCH', 'fr'))\n",
      "((0, 358, 'DUTCH', 'nl'), (358, 119, 'Unknown', 'un'), (477, 8041, 'DUTCH', 'nl'), (8518, 238, 'Unknown', 'un'), (8756, 170, 'ENGLISH', 'en'), (8926, 8584, 'FRENCH', 'fr'))\n",
      "((0, 161, 'Unknown', 'un'), (161, 5549, 'FRENCH', 'fr'), (5710, 1046, 'DUTCH', 'nl'), (6756, 244, 'Unknown', 'un'), (7000, 4049, 'DUTCH', 'nl'))\n",
      "((0, 246, 'FRENCH', 'fr'), (246, 48, 'ENGLISH', 'en'), (294, 9019, 'FRENCH', 'fr'), (9313, 193, 'ENGLISH', 'en'), (9506, 218, 'FRENCH', 'fr'), (9724, 9551, 'DUTCH', 'nl'))\n",
      "((0, 133, 'FRENCH', 'fr'), (133, 93, 'DUTCH', 'nl'), (226, 491, 'Unknown', 'un'), (717, 495, 'DUTCH', 'nl'), (1212, 213, 'Unknown', 'un'), (1425, 7304, 'DUTCH', 'nl'), (8729, 6766, 'FRENCH', 'fr'), (15495, 93, 'Unknown', 'un'), (15588, 369, 'FRENCH', 'fr'))\n",
      "((0, 150, 'FRENCH', 'fr'), (150, 321, 'Unknown', 'un'), (471, 195, 'FRENCH', 'fr'), (666, 589, 'DUTCH', 'nl'), (1255, 201, 'Unknown', 'un'), (1456, 896, 'FRENCH', 'fr'), (2352, 624, 'Unknown', 'un'), (2976, 229, 'FRENCH', 'fr'), (3205, 362, 'Unknown', 'un'), (3567, 187, 'FRENCH', 'fr'), (3754, 444, 'Unknown', 'un'), (4198, 822, 'FRENCH', 'fr'), (5020, 216, 'Unknown', 'un'), (5236, 857, 'FRENCH', 'fr'), (6093, 506, 'Unknown', 'un'), (6599, 191, 'FRENCH', 'fr'), (6790, 334, 'Unknown', 'un'), (7124, 1882, 'FRENCH', 'fr'), (9006, 721, 'Unknown', 'un'), (9727, 165, 'DUTCH', 'nl'), (9892, 168, 'Unknown', 'un'), (10060, 216, 'DUTCH', 'nl'), (10276, 335, 'Unknown', 'un'), (10611, 198, 'DUTCH', 'nl'), (10809, 594, 'Unknown', 'un'), (11403, 435, 'DUTCH', 'nl'), (11838, 339, 'Unknown', 'un'), (12177, 207, 'DUTCH', 'nl'), (12384, 196, 'Unknown', 'un'), (12580, 383, 'DUTCH', 'nl'), (12963, 782, 'Unknown', 'un'), (13745, 113, 'DUTCH', 'nl'), (13858, 3520, 'Unknown', 'un'), (17378, 121, 'DUTCH', 'nl'), (17499, 232, 'Unknown', 'un'), (17731, 264, 'DUTCH', 'nl'))\n",
      "((0, 148, 'Unknown', 'un'), (148, 3937, 'DUTCH', 'nl'), (4085, 189, 'Unknown', 'un'), (4274, 646, 'FRENCH', 'fr'), (4920, 54, 'ENGLISH', 'en'), (4974, 3412, 'FRENCH', 'fr'))\n",
      "((0, 133, 'FRENCH', 'fr'), (133, 93, 'DUTCH', 'nl'), (226, 314, 'Unknown', 'un'), (540, 815, 'FRENCH', 'fr'), (1355, 69, 'DUTCH', 'nl'), (1424, 137, 'FRENCH', 'fr'), (1561, 134, 'DUTCH', 'nl'), (1695, 22747, 'FRENCH', 'fr'))\n",
      "((0, 5211, 'DUTCH', 'nl'), (5211, 91, 'Unknown', 'un'), (5302, 5240, 'FRENCH', 'fr'))\n",
      "((0, 277, 'FRENCH', 'fr'), (277, 48, 'Unknown', 'un'), (325, 5071, 'FRENCH', 'fr'), (5396, 140, 'ENGLISH', 'en'), (5536, 4264, 'FRENCH', 'fr'), (9800, 192, 'ENGLISH', 'en'), (9992, 218, 'FRENCH', 'fr'), (10210, 9939, 'DUTCH', 'nl'))\n",
      "((0, 3287, 'FRENCH', 'fr'), (3287, 2830, 'DUTCH', 'nl'))\n",
      "((0, 143, 'Unknown', 'un'), (143, 78, 'DUTCH', 'nl'), (221, 208, 'Unknown', 'un'), (429, 212, 'FRENCH', 'fr'), (641, 37, 'DUTCH', 'nl'), (678, 566, 'FRENCH', 'fr'), (1244, 7679, 'DUTCH', 'nl'), (8923, 174, 'Unknown', 'un'), (9097, 3642, 'FRENCH', 'fr'), (12739, 53, 'ENGLISH', 'en'), (12792, 1520, 'FRENCH', 'fr'), (14312, 222, 'Unknown', 'un'), (14534, 2422, 'FRENCH', 'fr'))\n",
      "((0, 133, 'FRENCH', 'fr'), (133, 93, 'DUTCH', 'nl'), (226, 429, 'Unknown', 'un'), (655, 5970, 'DUTCH', 'nl'))\n",
      "((0, 83, 'Unknown', 'un'), (83, 2931, 'DUTCH', 'nl'), (3014, 25, 'Unknown', 'un'), (3039, 1959, 'FRENCH', 'fr'), (4998, 84, 'ENGLISH', 'en'), (5082, 901, 'FRENCH', 'fr'))\n",
      "((0, 133, 'FRENCH', 'fr'), (133, 93, 'DUTCH', 'nl'), (226, 296, 'Unknown', 'un'), (522, 1022, 'FRENCH', 'fr'), (1544, 1265, 'DUTCH', 'nl'), (2809, 30, 'Unknown', 'un'), (2839, 3086, 'DUTCH', 'nl'), (5925, 20, 'AFRIKAANS', 'af'), (5945, 5375, 'DUTCH', 'nl'), (11320, 9443, 'FRENCH', 'fr'), (20763, 196, 'Unknown', 'un'), (20959, 151, 'FRENCH', 'fr'))\n",
      "((0, 137, 'DUTCH', 'nl'), (137, 466, 'Unknown', 'un'), (603, 105, 'DUTCH', 'nl'), (708, 216, 'FRENCH', 'fr'), (924, 41, 'DUTCH', 'nl'), (965, 175, 'FRENCH', 'fr'), (1140, 3122, 'DUTCH', 'nl'), (4262, 235, 'Unknown', 'un'), (4497, 368, 'FRENCH', 'fr'), (4865, 101, 'Unknown', 'un'), (4966, 2285, 'FRENCH', 'fr'), (7251, 144, 'Unknown', 'un'), (7395, 108, 'FRENCH', 'fr'))\n",
      "((0, 143, 'Unknown', 'un'), (143, 79, 'DUTCH', 'nl'), (222, 317, 'FRENCH', 'fr'), (539, 31, 'Unknown', 'un'), (570, 224, 'FRENCH', 'fr'), (794, 85, 'DUTCH', 'nl'), (879, 157, 'FRENCH', 'fr'), (1036, 181, 'Unknown', 'un'), (1217, 4917, 'DUTCH', 'nl'), (6134, 179, 'Unknown', 'un'), (6313, 3405, 'FRENCH', 'fr'), (9718, 100, 'ENGLISH', 'en'), (9818, 1522, 'FRENCH', 'fr'))\n",
      "((0, 714, 'FRENCH', 'fr'), (714, 72, 'Unknown', 'un'), (786, 5861, 'FRENCH', 'fr'), (6647, 661, 'DUTCH', 'nl'), (7308, 174, 'Unknown', 'un'), (7482, 5408, 'DUTCH', 'nl'))\n",
      "((0, 92, 'ENGLISH', 'en'), (92, 1214, 'FRENCH', 'fr'), (1306, 129, 'Unknown', 'un'), (1435, 2911, 'FRENCH', 'fr'), (4346, 2956, 'DUTCH', 'nl'), (7302, 115, 'Unknown', 'un'), (7417, 995, 'DUTCH', 'nl'))\n",
      "((0, 9617, 'FRENCH', 'fr'), (9617, 9321, 'DUTCH', 'nl'))\n",
      "((0, 279, 'Unknown', 'un'), (279, 33, 'ENGLISH', 'en'), (312, 4163, 'FRENCH', 'fr'), (4475, 187, 'Unknown', 'un'), (4662, 5218, 'FRENCH', 'fr'), (9880, 9644, 'DUTCH', 'nl'))\n",
      "((0, 278, 'FRENCH', 'fr'), (278, 48, 'Unknown', 'un'), (326, 6733, 'FRENCH', 'fr'), (7059, 65, 'Unknown', 'un'), (7124, 2674, 'FRENCH', 'fr'), (9798, 193, 'Unknown', 'un'), (9991, 218, 'FRENCH', 'fr'), (10209, 1121, 'DUTCH', 'nl'), (11330, 157, 'Unknown', 'un'), (11487, 8596, 'DUTCH', 'nl'))\n",
      "((0, 145, 'Unknown', 'un'), (145, 6211, 'DUTCH', 'nl'), (6356, 73, 'Unknown', 'un'), (6429, 6371, 'FRENCH', 'fr'))\n",
      "((0, 8819, 'FRENCH', 'fr'), (8819, 287, 'ENGLISH', 'en'), (9106, 124, 'FRENCH', 'fr'), (9230, 9034, 'DUTCH', 'nl'))\n",
      "((0, 171, 'Unknown', 'un'), (171, 28, 'ENGLISH', 'en'), (199, 2486, 'FRENCH', 'fr'), (2685, 101, 'Unknown', 'un'), (2786, 501, 'DUTCH', 'nl'), (3287, 25, 'AFRIKAANS', 'af'), (3312, 1788, 'DUTCH', 'nl'))\n",
      "((0, 83, 'Unknown', 'un'), (83, 8493, 'DUTCH', 'nl'), (8576, 4862, 'FRENCH', 'fr'), (13438, 53, 'Unknown', 'un'), (13491, 4418, 'FRENCH', 'fr'))\n",
      "((0, 9257, 'FRENCH', 'fr'), (9257, 8595, 'DUTCH', 'nl'), (17852, 136, 'Unknown', 'un'), (17988, 390, 'DUTCH', 'nl'))\n",
      "((0, 133, 'FRENCH', 'fr'), (133, 93, 'DUTCH', 'nl'), (226, 306, 'Unknown', 'un'), (532, 252, 'FRENCH', 'fr'), (784, 46, 'DUTCH', 'nl'), (830, 403, 'FRENCH', 'fr'), (1233, 90, 'DUTCH', 'nl'), (1323, 119, 'FRENCH', 'fr'), (1442, 5277, 'DUTCH', 'nl'), (6719, 117, 'Unknown', 'un'), (6836, 676, 'FRENCH', 'fr'), (7512, 54, 'ENGLISH', 'en'), (7566, 4500, 'FRENCH', 'fr'))\n",
      "((0, 143, 'Unknown', 'un'), (143, 78, 'DUTCH', 'nl'), (221, 213, 'Unknown', 'un'), (434, 805, 'FRENCH', 'fr'), (1239, 66, 'DUTCH', 'nl'), (1305, 481, 'FRENCH', 'fr'), (1786, 76, 'DUTCH', 'nl'), (1862, 323, 'FRENCH', 'fr'), (2185, 65, 'DUTCH', 'nl'), (2250, 141, 'FRENCH', 'fr'), (2391, 6819, 'DUTCH', 'nl'), (9210, 186, 'Unknown', 'un'), (9396, 6989, 'FRENCH', 'fr'))\n",
      "((0, 84, 'Unknown', 'un'), (84, 2926, 'DUTCH', 'nl'), (3010, 25, 'Unknown', 'un'), (3035, 2965, 'FRENCH', 'fr'))\n",
      "((0, 249, 'Unknown', 'un'), (249, 4253, 'DUTCH', 'nl'), (4502, 303, 'Unknown', 'un'), (4805, 839, 'FRENCH', 'fr'), (5644, 53, 'Unknown', 'un'), (5697, 822, 'FRENCH', 'fr'), (6519, 53, 'Unknown', 'un'), (6572, 3037, 'FRENCH', 'fr'))\n"
     ]
    },
    {
     "ename": "KeyboardInterrupt",
     "evalue": "",
     "output_type": "error",
     "traceback": [
      "\u001b[0;31m---------------------------------------------------------------------------\u001b[0m",
      "\u001b[0;31mKeyboardInterrupt\u001b[0m                         Traceback (most recent call last)",
      "Cell \u001b[0;32mIn [26], line 24\u001b[0m\n\u001b[1;32m     17\u001b[0m         \u001b[39m# reader = easyocr.Reader(['nl'])\u001b[39;00m\n\u001b[1;32m     18\u001b[0m         \u001b[39m# result = reader.readtext(directory + pdf_file, paragraph=\"False\")\u001b[39;00m\n\u001b[1;32m     19\u001b[0m         \u001b[39m# with open(directory + pdf_file + 'nl' + '.txt', 'w') as nl_f:\u001b[39;00m\n\u001b[1;32m     20\u001b[0m         \u001b[39m#     nl_f.write()\u001b[39;00m\n\u001b[1;32m     21\u001b[0m         \u001b[39m#     nl_f.close()\u001b[39;00m\n\u001b[1;32m     23\u001b[0m directory \u001b[39m=\u001b[39m \u001b[39m'\u001b[39m\u001b[39m./data/Docs/\u001b[39m\u001b[39m'\u001b[39m\n\u001b[0;32m---> 24\u001b[0m text_writer(directory)\n\u001b[1;32m     26\u001b[0m \u001b[39m# Same code here just changing the attribute from ['en'] to ['zh']\u001b[39;00m\n",
      "Cell \u001b[0;32mIn [26], line 10\u001b[0m, in \u001b[0;36mtext_writer\u001b[0;34m(directory)\u001b[0m\n\u001b[1;32m      8\u001b[0m pc_folder_list \u001b[39m=\u001b[39m os\u001b[39m.\u001b[39mlistdir(directory \u001b[39m+\u001b[39m pc_folder)\n\u001b[1;32m      9\u001b[0m \u001b[39mfor\u001b[39;00m pdf_file \u001b[39min\u001b[39;00m pc_folder_list:\n\u001b[0;32m---> 10\u001b[0m     text \u001b[39m=\u001b[39m extract_text(directory \u001b[39m+\u001b[39;49m pc_folder\u001b[39m+\u001b[39;49m \u001b[39m'\u001b[39;49m\u001b[39m/\u001b[39;49m\u001b[39m'\u001b[39;49m \u001b[39m+\u001b[39;49m pdf_file)\n\u001b[1;32m     11\u001b[0m     isReliable, textBytesFound, details, vectors \u001b[39m=\u001b[39m cld2\u001b[39m.\u001b[39mdetect( text, hintLanguage\u001b[39m=\u001b[39m\u001b[39m'\u001b[39m\u001b[39mnl\u001b[39m\u001b[39m'\u001b[39m, returnVectors\u001b[39m=\u001b[39m\u001b[39mTrue\u001b[39;00m)\n\u001b[1;32m     12\u001b[0m     \u001b[39mprint\u001b[39m(vectors)\n",
      "File \u001b[0;32m~/.local/lib/python3.8/site-packages/pdfminer/high_level.py:175\u001b[0m, in \u001b[0;36mextract_text\u001b[0;34m(pdf_file, password, page_numbers, maxpages, caching, codec, laparams)\u001b[0m\n\u001b[1;32m    166\u001b[0m interpreter \u001b[39m=\u001b[39m PDFPageInterpreter(rsrcmgr, device)\n\u001b[1;32m    168\u001b[0m \u001b[39mfor\u001b[39;00m page \u001b[39min\u001b[39;00m PDFPage\u001b[39m.\u001b[39mget_pages(\n\u001b[1;32m    169\u001b[0m     fp,\n\u001b[1;32m    170\u001b[0m     page_numbers,\n\u001b[0;32m   (...)\u001b[0m\n\u001b[1;32m    173\u001b[0m     caching\u001b[39m=\u001b[39mcaching,\n\u001b[1;32m    174\u001b[0m ):\n\u001b[0;32m--> 175\u001b[0m     interpreter\u001b[39m.\u001b[39;49mprocess_page(page)\n\u001b[1;32m    177\u001b[0m \u001b[39mreturn\u001b[39;00m output_string\u001b[39m.\u001b[39mgetvalue()\n",
      "File \u001b[0;32m~/.local/lib/python3.8/site-packages/pdfminer/pdfinterp.py:998\u001b[0m, in \u001b[0;36mPDFPageInterpreter.process_page\u001b[0;34m(self, page)\u001b[0m\n\u001b[1;32m    996\u001b[0m \u001b[39mself\u001b[39m\u001b[39m.\u001b[39mdevice\u001b[39m.\u001b[39mbegin_page(page, ctm)\n\u001b[1;32m    997\u001b[0m \u001b[39mself\u001b[39m\u001b[39m.\u001b[39mrender_contents(page\u001b[39m.\u001b[39mresources, page\u001b[39m.\u001b[39mcontents, ctm\u001b[39m=\u001b[39mctm)\n\u001b[0;32m--> 998\u001b[0m \u001b[39mself\u001b[39;49m\u001b[39m.\u001b[39;49mdevice\u001b[39m.\u001b[39;49mend_page(page)\n\u001b[1;32m    999\u001b[0m \u001b[39mreturn\u001b[39;00m\n",
      "File \u001b[0;32m~/.local/lib/python3.8/site-packages/pdfminer/converter.py:79\u001b[0m, in \u001b[0;36mPDFLayoutAnalyzer.end_page\u001b[0;34m(self, page)\u001b[0m\n\u001b[1;32m     77\u001b[0m \u001b[39massert\u001b[39;00m \u001b[39misinstance\u001b[39m(\u001b[39mself\u001b[39m\u001b[39m.\u001b[39mcur_item, LTPage), \u001b[39mstr\u001b[39m(\u001b[39mtype\u001b[39m(\u001b[39mself\u001b[39m\u001b[39m.\u001b[39mcur_item))\n\u001b[1;32m     78\u001b[0m \u001b[39mif\u001b[39;00m \u001b[39mself\u001b[39m\u001b[39m.\u001b[39mlaparams \u001b[39mis\u001b[39;00m \u001b[39mnot\u001b[39;00m \u001b[39mNone\u001b[39;00m:\n\u001b[0;32m---> 79\u001b[0m     \u001b[39mself\u001b[39;49m\u001b[39m.\u001b[39;49mcur_item\u001b[39m.\u001b[39;49manalyze(\u001b[39mself\u001b[39;49m\u001b[39m.\u001b[39;49mlaparams)\n\u001b[1;32m     80\u001b[0m \u001b[39mself\u001b[39m\u001b[39m.\u001b[39mpageno \u001b[39m+\u001b[39m\u001b[39m=\u001b[39m \u001b[39m1\u001b[39m\n\u001b[1;32m     81\u001b[0m \u001b[39mself\u001b[39m\u001b[39m.\u001b[39mreceive_layout(\u001b[39mself\u001b[39m\u001b[39m.\u001b[39mcur_item)\n",
      "File \u001b[0;32m~/.local/lib/python3.8/site-packages/pdfminer/layout.py:948\u001b[0m, in \u001b[0;36mLTLayoutContainer.analyze\u001b[0;34m(self, laparams)\u001b[0m\n\u001b[1;32m    946\u001b[0m \u001b[39mif\u001b[39;00m \u001b[39mnot\u001b[39;00m textobjs:\n\u001b[1;32m    947\u001b[0m     \u001b[39mreturn\u001b[39;00m\n\u001b[0;32m--> 948\u001b[0m textlines \u001b[39m=\u001b[39m \u001b[39mlist\u001b[39;49m(\u001b[39mself\u001b[39;49m\u001b[39m.\u001b[39;49mgroup_objects(laparams, textobjs))\n\u001b[1;32m    949\u001b[0m (empties, textlines) \u001b[39m=\u001b[39m fsplit(\u001b[39mlambda\u001b[39;00m obj: obj\u001b[39m.\u001b[39mis_empty(), textlines)\n\u001b[1;32m    950\u001b[0m \u001b[39mfor\u001b[39;00m obj \u001b[39min\u001b[39;00m empties:\n",
      "File \u001b[0;32m~/.local/lib/python3.8/site-packages/pdfminer/layout.py:790\u001b[0m, in \u001b[0;36mLTLayoutContainer.group_objects\u001b[0;34m(self, laparams, objs)\u001b[0m\n\u001b[1;32m    776\u001b[0m valign \u001b[39m=\u001b[39m (\n\u001b[1;32m    777\u001b[0m     laparams\u001b[39m.\u001b[39mdetect_vertical\n\u001b[1;32m    778\u001b[0m     \u001b[39mand\u001b[39;00m obj0\u001b[39m.\u001b[39mis_compatible(obj1)\n\u001b[0;32m   (...)\u001b[0m\n\u001b[1;32m    783\u001b[0m     \u001b[39m<\u001b[39m \u001b[39mmax\u001b[39m(obj0\u001b[39m.\u001b[39mheight, obj1\u001b[39m.\u001b[39mheight) \u001b[39m*\u001b[39m laparams\u001b[39m.\u001b[39mchar_margin\n\u001b[1;32m    784\u001b[0m )\n\u001b[1;32m    786\u001b[0m \u001b[39mif\u001b[39;00m (halign \u001b[39mand\u001b[39;00m \u001b[39misinstance\u001b[39m(line, LTTextLineHorizontal)) \u001b[39mor\u001b[39;00m (\n\u001b[1;32m    787\u001b[0m     valign \u001b[39mand\u001b[39;00m \u001b[39misinstance\u001b[39m(line, LTTextLineVertical)\n\u001b[1;32m    788\u001b[0m ):\n\u001b[0;32m--> 790\u001b[0m     line\u001b[39m.\u001b[39;49madd(obj1)\n\u001b[1;32m    791\u001b[0m \u001b[39melif\u001b[39;00m line \u001b[39mis\u001b[39;00m \u001b[39mnot\u001b[39;00m \u001b[39mNone\u001b[39;00m:\n\u001b[1;32m    792\u001b[0m     \u001b[39myield\u001b[39;00m line\n",
      "File \u001b[0;32m~/.local/lib/python3.8/site-packages/pdfminer/layout.py:526\u001b[0m, in \u001b[0;36mLTTextLineHorizontal.add\u001b[0;34m(self, obj)\u001b[0m\n\u001b[1;32m    524\u001b[0m         LTContainer\u001b[39m.\u001b[39madd(\u001b[39mself\u001b[39m, LTAnno(\u001b[39m\"\u001b[39m\u001b[39m \u001b[39m\u001b[39m\"\u001b[39m))\n\u001b[1;32m    525\u001b[0m \u001b[39mself\u001b[39m\u001b[39m.\u001b[39m_x1 \u001b[39m=\u001b[39m obj\u001b[39m.\u001b[39mx1\n\u001b[0;32m--> 526\u001b[0m \u001b[39msuper\u001b[39;49m()\u001b[39m.\u001b[39;49madd(obj)\n\u001b[1;32m    527\u001b[0m \u001b[39mreturn\u001b[39;00m\n",
      "File \u001b[0;32m~/.local/lib/python3.8/site-packages/pdfminer/layout.py:456\u001b[0m, in \u001b[0;36mLTExpandableContainer.add\u001b[0;34m(self, obj)\u001b[0m\n\u001b[1;32m    450\u001b[0m \u001b[39mdef\u001b[39;00m \u001b[39madd\u001b[39m(\u001b[39mself\u001b[39m, obj: LTComponent) \u001b[39m-\u001b[39m\u001b[39m>\u001b[39m \u001b[39mNone\u001b[39;00m:  \u001b[39m# type: ignore[override]\u001b[39;00m\n\u001b[1;32m    451\u001b[0m     LTContainer\u001b[39m.\u001b[39madd(\u001b[39mself\u001b[39m, cast(LTItemT, obj))\n\u001b[1;32m    452\u001b[0m     \u001b[39mself\u001b[39m\u001b[39m.\u001b[39mset_bbox(\n\u001b[1;32m    453\u001b[0m         (\n\u001b[1;32m    454\u001b[0m             \u001b[39mmin\u001b[39m(\u001b[39mself\u001b[39m\u001b[39m.\u001b[39mx0, obj\u001b[39m.\u001b[39mx0),\n\u001b[1;32m    455\u001b[0m             \u001b[39mmin\u001b[39m(\u001b[39mself\u001b[39m\u001b[39m.\u001b[39my0, obj\u001b[39m.\u001b[39my0),\n\u001b[0;32m--> 456\u001b[0m             \u001b[39mmax\u001b[39m(\u001b[39mself\u001b[39;49m\u001b[39m.\u001b[39;49mx1, obj\u001b[39m.\u001b[39mx1),\n\u001b[1;32m    457\u001b[0m             \u001b[39mmax\u001b[39m(\u001b[39mself\u001b[39m\u001b[39m.\u001b[39my1, obj\u001b[39m.\u001b[39my1),\n\u001b[1;32m    458\u001b[0m         )\n\u001b[1;32m    459\u001b[0m     )\n\u001b[1;32m    460\u001b[0m     \u001b[39mreturn\u001b[39;00m\n",
      "\u001b[0;31mKeyboardInterrupt\u001b[0m: "
     ]
    }
   ],
   "source": [
    "import os\n",
    "import pycld2 as cld2\n",
    "def text_writer(directory):\n",
    "    pc_list = os.listdir(directory) \n",
    "    \n",
    "    for pc_folder in pc_list:\n",
    "        print (pc_folder)\n",
    "        pc_folder_list = os.listdir(directory + pc_folder)\n",
    "        for pdf_file in pc_folder_list:\n",
    "            text = extract_text(directory + pc_folder+ '/' + pdf_file)\n",
    "            isReliable, textBytesFound, details, vectors = cld2.detect( text, hintLanguage='nl', returnVectors=True)\n",
    "            print(vectors)\n",
    "            with open('./data/texts/' + str(pdf_file)[0:-4]+ '.txt', 'w') as f:\n",
    "                f.write(text)\n",
    "                f.close()\n",
    "\n",
    "        # reader = easyocr.Reader(['nl'])\n",
    "        # result = reader.readtext(directory + pdf_file, paragraph=\"False\")\n",
    "        # with open(directory + pdf_file + 'nl' + '.txt', 'w') as nl_f:\n",
    "        #     nl_f.write()\n",
    "        #     nl_f.close()\n",
    "            \n",
    "directory = './data/Docs/'\n",
    "text_writer(directory)\n",
    " \n",
    "# Same code here just changing the attribute from ['en'] to ['zh']\n"
   ]
  },
  {
   "cell_type": "markdown",
   "metadata": {},
   "source": []
  }
 ],
 "metadata": {
  "kernelspec": {
   "display_name": "venv",
   "language": "python",
   "name": "python3"
  },
  "language_info": {
   "codemirror_mode": {
    "name": "ipython",
    "version": 3
   },
   "file_extension": ".py",
   "mimetype": "text/x-python",
   "name": "python",
   "nbconvert_exporter": "python",
   "pygments_lexer": "ipython3",
   "version": "3.8.10 (default, Nov 14 2022, 12:59:47) \n[GCC 9.4.0]"
  },
  "orig_nbformat": 4,
  "vscode": {
   "interpreter": {
    "hash": "7110c394cd951bd12eeac968a59ea9269260b02a300d9aed313a9f956368d429"
   }
  }
 },
 "nbformat": 4,
 "nbformat_minor": 2
}
