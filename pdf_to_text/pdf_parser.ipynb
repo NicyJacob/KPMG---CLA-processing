{
 "cells": [
  {
   "cell_type": "code",
   "execution_count": null,
   "metadata": {},
   "outputs": [],
   "source": []
  },
  {
   "cell_type": "code",
   "execution_count": null,
   "metadata": {},
   "outputs": [],
   "source": [
    "def parse_case(case_path):\n",
    "    \"\"\"Parse all the pdf files in the folder.\"\"\"\n",
    "    try:\n",
    "        result = {\n",
    "            'id': case_path.split('/')[-2], \n",
    "            'docs': {}\n",
    "        }\n",
    "\n",
    "        for name in os.listdir(case_path):\n",
    "            if name[0] == '.' or name[-4:] != '.pdf':\n",
    "                continue\n",
    "            doc_id = name.split('.')[0]\n",
    "            result['docs'][doc_id] = {'pages': {}}\n",
    "            doc_obj = result['docs'][doc_id]\n",
    "\n",
    "            path = case_path + name\n",
    "            fp = open(path, 'rb')\n",
    "            parser = PDFParser(fp)\n",
    "            doc = PDFDocument(parser)\n",
    "            rsrcmgr = PDFResourceManager()\n",
    "            laparams = LAParams(detect_vertical=True, all_texts=True)\n",
    "            device = PDFPageAggregator(rsrcmgr, laparams=laparams)\n",
    "            interpreter = PDFPageInterpreter(rsrcmgr, device)\n",
    "\n",
    "            for page in PDFPage.create_pages(doc):\n",
    "                interpreter.process_page(page)\n",
    "                layout = device.get_result()\n",
    "                doc_obj['pages'][layout.pageid] = {\n",
    "                    'size': (layout.width, layout.height),\n",
    "                    'text': parse_text(layout)\n",
    "                }\n",
    "                # print(layout.width, layout.height)\n",
    "\n",
    "        output = open(case_path + 'parsed.json', 'w')\n",
    "        json.dump(result, output, indent=None)\n",
    "    except:\n",
    "        print(\"Error \" + case_path)\n",
    "\n",
    "    return None \n"
   ]
  }
 ],
 "metadata": {
  "kernelspec": {
   "display_name": "base",
   "language": "python",
   "name": "python3"
  },
  "language_info": {
   "name": "python",
   "version": "3.7.12 | packaged by conda-forge | (default, Oct 26 2021, 06:08:21) \n[GCC 9.4.0]"
  },
  "orig_nbformat": 4,
  "vscode": {
   "interpreter": {
    "hash": "c8d57a0f13d636405d6879443318fafb29486b6db7cd47c7617fe26b594f1783"
   }
  }
 },
 "nbformat": 4,
 "nbformat_minor": 2
}
