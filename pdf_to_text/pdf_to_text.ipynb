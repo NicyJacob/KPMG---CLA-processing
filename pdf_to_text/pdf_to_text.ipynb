{
 "cells": [
  {
   "cell_type": "code",
   "execution_count": 1,
   "metadata": {},
   "outputs": [],
   "source": [
    "import pandas as pd\n",
    "import chardet\n",
    "\n",
    "import pdfminer\n",
    "from pdfminer.high_level import extract_text\n",
    "\n",
    "import os\n",
    "import easyocr\n",
    "import cv2\n",
    "from matplotlib import pyplot as plt\n",
    "import numpy as np\n",
    "\n",
    "import os\n",
    "import pycld2 as cld2"
   ]
  },
  {
   "cell_type": "code",
   "execution_count": 2,
   "metadata": {},
   "outputs": [],
   "source": [
    "df1 = pd.read_csv('/home/sammich/Documents/BeCode/becode_projects/KPMG---CLA-processing/data')\n",
    "jcs = df1['jc_number'].unique()\n"
   ]
  },
  {
   "cell_type": "code",
   "execution_count": 2,
   "metadata": {},
   "outputs": [],
   "source": [
    "#make pdfs to text using a base directory, a relevant number for the next directory, \n",
    "# and then a document number\n",
    "def text_writer(directory, jc_number, pdf_number):\n",
    "    jc_list = os.listdir(directory) \n",
    "    print(jc_list)\n",
    "    for jc_number in jc_list:\n",
    "        print (jc_number)\n",
    "        jc_folder = os.listdir(directory + jc_number)\n",
    "        for pdf_number in jc_folder:\n",
    "            print(pdf_number)\n",
    "            text = extract_text(directory + jc_number + '/' + pdf_number)\n",
    "            isReliable, textBytesFound, details, vectors = cld2.detect( text, hintLanguage='nl', returnVectors=True)\n",
    "            print(vectors)\n",
    "            jc_num_dir= './data/texts/' + jc_number\n",
    "            #make a directory for the specific wished text files\n",
    "            if os.path.exists(jc_num_dir):\n",
    "                with open('./data/texts/' + str(jc_number) +'/' + str(pdf_number)[0:-4]+ '.txt', 'w') as f:\n",
    "                    f.write(text)\n",
    "                    f.close()\n",
    "            # if directory there then just make text file\n",
    "            else:\n",
    "                os.mkdir('./data/texts/' + jc_number) \n",
    "                with open('./data/texts/' + str(jc_number) +'/' + str(pdf_number)[0:-4]+ '.txt', 'w') as f:\n",
    "                    f.write(text)\n",
    "                    f.close()\n"
   ]
  },
  {
   "cell_type": "code",
   "execution_count": null,
   "metadata": {},
   "outputs": [],
   "source": [
    "#make a list of pdfs that pertain to a specific topic, in this case wages\n",
    "#these pdf file numbers are given in a csv\n",
    "wages_df = pd.read_csv('./data/salary_files.csv')\n",
    "wages_df['jc_number'] = wages_df['jc_number'].astype(str).replace('\\.0$', '', regex=True)\n",
    "jc_num_df = wages_df['jc_number']\n",
    "\n",
    "directory = './data/Docs/'\n",
    "\n",
    "indexlist = []\n",
    "jc_numlist = []\n",
    "for name, filename in wages_df['filename'].iteritems():\n",
    "    print(filename)\n",
    "    index= wages_df.index[wages_df['filename']==filename].tolist()\n",
    "    jc_num = jc_num_df.iloc[index[0]]\n",
    "\n",
    "    #use the relevant directorys and file names to write the pdfs to text\n",
    "    text_writer(directory, jc_num, filename)\n",
    "    indexlist.append(index[0])\n",
    "    jc_numlist.append(jc_num)\n",
    "\n"
   ]
  },
  {
   "cell_type": "markdown",
   "metadata": {},
   "source": []
  }
 ],
 "metadata": {
  "kernelspec": {
   "display_name": "Python 3 (ipykernel)",
   "language": "python",
   "name": "python3"
  },
  "language_info": {
   "codemirror_mode": {
    "name": "ipython",
    "version": 3
   },
   "file_extension": ".py",
   "mimetype": "text/x-python",
   "name": "python",
   "nbconvert_exporter": "python",
   "pygments_lexer": "ipython3",
   "version": "3.8.10 (default, Nov 14 2022, 12:59:47) \n[GCC 9.4.0]"
  },
  "orig_nbformat": 4,
  "vscode": {
   "interpreter": {
    "hash": "31f2aee4e71d21fbe5cf8b01ff0e069b9275f58929596ceb00d14d90e3e16cd6"
   }
  }
 },
 "nbformat": 4,
 "nbformat_minor": 2
}
