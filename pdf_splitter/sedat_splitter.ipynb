{
 "cells": [
  {
   "cell_type": "code",
   "execution_count": null,
   "metadata": {},
   "outputs": [],
   "source": [
    "\"\"\"\n",
    "Program expects Data/A/100/something.pdf structure\n",
    "Create a \"splitted\" folder for the output and then run the program\n",
    "Splits the pages in half if the longest line is less than 60 characters a.k.a\n",
    "there are 2 columns of text\n",
    "\"\"\"\n",
    "import pdfminer\n",
    "import pdfrw\n",
    "import alive_progress\n",
    "\n",
    "import sys\n",
    "import os\n",
    "from pdfminer.high_level import extract_text\n",
    " \n",
    "directory = \"./data/cla_pdfs\"\n",
    "from pdfrw import PdfReader, PdfWriter, PageMerge\n",
    "\n",
    "#directory to put the pdfs that have been split\n",
    "split_dir= './data/split_pdfs/'\n",
    "os.mkdir(split_dir)\n",
    "\n",
    "#function to split pdf pages in half\n",
    "def splitpage(src):\n",
    "    \"\"\"Split a page into two (left and right)\"\"\"\n",
    "    # Yield a result for each half of the page\n",
    "    for x_pos in (0, 0.5):\n",
    "        yield PageMerge().add(src, viewrect=(x_pos, 0, 0.5, 1)).render()\n",
    " \n",
    "#count of split pdfs and dictionary with totals after each folder is processed\n",
    "split = 0\n",
    "split_dict = {}\n",
    "\n",
    "#get list of folders from relevant directory that has pdfs needing to be split \n",
    "jc_numbers= os.listdir(directory)\n",
    "print(jc_numbers)\n",
    "for dir in jc_numbers:\n",
    "    print(dir)\n",
    "\n",
    "    for document in os.listdir(f\"{directory}/{dir}\"):\n",
    "        try:\n",
    "            text = extract_text(f\"{directory}/{dir}/{document}\")\n",
    "            text = text.splitlines()\n",
    "            if len(max(text, key=len)) < 60:\n",
    "                writer = PdfWriter()\n",
    "                page_number = 0\n",
    "                for page in PdfReader(f\"{directory}/{dir}/{document}\").pages:\n",
    "                    writer.addpages(splitpage(page))\n",
    "                \n",
    "                if os.path.exists(f\"{split_dir}/{dir}\"):\n",
    "                    writer.write(f\"{split_dir}/{dir}/{document}\")\n",
    "                    split += 1\n",
    "                else:\n",
    "                    os.mkdir(f\"{split_dir}/{dir}\")\n",
    "                    writer.write(f\"{split_dir}/{dir}/{document}\")\n",
    "                    split += 1\n",
    "        except:\n",
    "            print('error at directory: ' + str(dir))\n",
    "            pass\n",
    "    split_dict[dir] = split           \n",
    "    print(f\"Split pdfs: {split}\")\n",
    "    print(split_dict)"
   ]
  },
  {
   "cell_type": "code",
   "execution_count": 3,
   "metadata": {},
   "outputs": [
    {
     "ename": "FileNotFoundError",
     "evalue": "[Errno 2] No such file or directory: 'data/split_pdfs'",
     "output_type": "error",
     "traceback": [
      "\u001b[0;31m---------------------------------------------------------------------------\u001b[0m",
      "\u001b[0;31mFileNotFoundError\u001b[0m                         Traceback (most recent call last)",
      "\u001b[0;32m/tmp/ipykernel_10291/683769052.py\u001b[0m in \u001b[0;36m<module>\u001b[0;34m\u001b[0m\n\u001b[1;32m      4\u001b[0m \u001b[0;34m\u001b[0m\u001b[0m\n\u001b[1;32m      5\u001b[0m \u001b[0;31m#join pdf half pages into full pdfs, in this case by language\u001b[0m\u001b[0;34m\u001b[0m\u001b[0;34m\u001b[0m\u001b[0;34m\u001b[0m\u001b[0m\n\u001b[0;32m----> 6\u001b[0;31m \u001b[0mpc_list\u001b[0m \u001b[0;34m=\u001b[0m \u001b[0mos\u001b[0m\u001b[0;34m.\u001b[0m\u001b[0mlistdir\u001b[0m\u001b[0;34m(\u001b[0m\u001b[0mpath\u001b[0m\u001b[0;34m)\u001b[0m\u001b[0;34m\u001b[0m\u001b[0;34m\u001b[0m\u001b[0m\n\u001b[0m\u001b[1;32m      7\u001b[0m \u001b[0;32mfor\u001b[0m \u001b[0mpc_folder\u001b[0m \u001b[0;32min\u001b[0m \u001b[0mos\u001b[0m\u001b[0;34m.\u001b[0m\u001b[0mlistdir\u001b[0m\u001b[0;34m(\u001b[0m\u001b[0mpath\u001b[0m\u001b[0;34m)\u001b[0m\u001b[0;34m:\u001b[0m\u001b[0;34m\u001b[0m\u001b[0;34m\u001b[0m\u001b[0m\n\u001b[1;32m      8\u001b[0m     \u001b[0;32mfor\u001b[0m \u001b[0mdocument\u001b[0m \u001b[0;32min\u001b[0m \u001b[0mos\u001b[0m\u001b[0;34m.\u001b[0m\u001b[0mlistdir\u001b[0m\u001b[0;34m(\u001b[0m\u001b[0;34mf\"{path}/{pc_folder}\"\u001b[0m\u001b[0;34m)\u001b[0m\u001b[0;34m:\u001b[0m\u001b[0;34m\u001b[0m\u001b[0;34m\u001b[0m\u001b[0m\n",
      "\u001b[0;31mFileNotFoundError\u001b[0m: [Errno 2] No such file or directory: 'data/split_pdfs'"
     ]
    }
   ],
   "source": [
    "#if running functions after eachother this path is not needed, can be split_dir\n",
    "#but otherwise make this path \n",
    "path = \"/home/sammich/Documents/BeCode/becode_projects/KPMG---CLA-processing/data/split_pdfs\"\n",
    "\n",
    "#join pdf half pages into full pdfs, in this case by language\n",
    "pc_list = os.listdir(path)\n",
    "for pc_folder in os.listdir(path):\n",
    "    for document in os.listdir(f\"{path}/{pc_folder}\"):\n",
    "        writer_NL = PdfWriter()\n",
    "        writer_FR = PdfWriter()\n",
    "        page_number = 0\n",
    "        for page in PdfReader(f\"{path}/{pc_folder}/{document}\").pages:\n",
    "            page_number += 1\n",
    "            if page_number%2 == 1:\n",
    "                writer_NL.addpage(page)\n",
    "            else:\n",
    "                writer_FR.addpage(page)\n",
    "        try:\n",
    "            os.mkdir('./data/split_nl/' + str(document)[0:3])\n",
    "            os.mkdir('./data/split_fr/' + str(document)[0:3])\n",
    "            writer_NL.write(f\"./data/split_nl/\" + str(document)[0:3] + f\"/NL_{document}\")\n",
    "            writer_FR.write(f\"./data/split_fr/\" + str(document)[0:3]+ f\"/FR_{document}\")\n",
    "        except:\n",
    "            writer_NL.write(f\"./data/split_nl/\" + str(document)[0:3] + f\"/NL_{document}\")\n",
    "            writer_FR.write(f\"./data/split_fr/\" + str(document)[0:3]+ f\"/FR_{document}\")\n",
    "        else:\n",
    "            print(('document' + str(document) + 'not made'))\n",
    "            pass         "
   ]
  },
  {
   "cell_type": "code",
   "execution_count": null,
   "metadata": {},
   "outputs": [],
   "source": []
  }
 ],
 "metadata": {
  "kernelspec": {
   "display_name": "base",
   "language": "python",
   "name": "python3"
  },
  "language_info": {
   "codemirror_mode": {
    "name": "ipython",
    "version": 3
   },
   "file_extension": ".py",
   "mimetype": "text/x-python",
   "name": "python",
   "nbconvert_exporter": "python",
   "pygments_lexer": "ipython3",
   "version": "3.7.12"
  },
  "orig_nbformat": 4,
  "vscode": {
   "interpreter": {
    "hash": "ce9d23c77a8814e371b6f93e2c2a11d1d49e52f540f9ffbb6aeafe475887050f"
   }
  }
 },
 "nbformat": 4,
 "nbformat_minor": 2
}
