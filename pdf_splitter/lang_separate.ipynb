{
 "cells": [
  {
   "cell_type": "code",
   "execution_count": 1,
   "metadata": {},
   "outputs": [],
   "source": [
    "import re\n",
    "import PyPDF2\n",
    "from nltk.tokenize import sent_tokenize\n",
    "from nltk.tokenize import word_tokenize\n",
    "import nltk\n",
    "import heapq\n",
    "import pandas as pd\n",
    "from sumy.summarizers.luhn import LuhnSummarizer\n",
    "from sumy.parsers.plaintext import PlaintextParser\n",
    "from sumy.nlp.tokenizers import Tokenizer\n",
    "\n",
    "# importing required modules\n",
    "import PyPDF2\n",
    "import os\n",
    "\n",
    "import spacy\n",
    "from spacy_langdetect import LanguageDetector"
   ]
  },
  {
   "cell_type": "code",
   "execution_count": 2,
   "metadata": {},
   "outputs": [],
   "source": [
    "dir_pdf_split =  \"/home/sammich/Documents/BeCode/becode_projects/KPMG---CLA-processing/data/split_pdfs2\"  \n",
    "dir_pdf_regular= \"/home/sammich/Documents/BeCode/becode_projects/KPMG---CLA-processing/data/standard_pdfs\"\n",
    "PC_split = os.listdir(f\"{dir_pdf_split}\")\n",
    "PC_regular = os.listdir(f\"{dir_pdf_regular}\")\n",
    "dir_french_txt = \"/home/sammich/Documents/BeCode/becode_projects/KPMG---CLA-processing/data/french_texts\"\n",
    "dir_dutch_txt = \"/home/sammich/Documents/BeCode/becode_projects/KPMG---CLA-processing/data/dutch_texts\""
   ]
  },
  {
   "cell_type": "code",
   "execution_count": 43,
   "metadata": {},
   "outputs": [],
   "source": [
    "def split_lang_divider(pc, cla, page):\n",
    "   \n",
    "    if os.path.exists(f\"{dir_pdf_split}/{pc}/{cla}\"):\n",
    "        cla_path = (f\"{dir_pdf_split}/{pc}/{cla}\")\n",
    "        pdfFileObj = open(cla_path, 'rb') \n",
    "        pdfReader = PyPDF2.PdfFileReader(pdfFileObj) \n",
    "        #print(pdfReader.numPages) # printing number of pages in pdf\n",
    "        pageObj = pdfReader.getPage(page) \n",
    "        \n",
    "        text1 = pageObj.extractText()\n",
    "        pdfFileObj.close()\n",
    "        return text1 "
   ]
  },
  {
   "cell_type": "code",
   "execution_count": 53,
   "metadata": {},
   "outputs": [],
   "source": [
    "import spacy\n",
    "from spacy.tokens import Doc, Span\n",
    "from spacy_language_detection import LanguageDetector\n",
    "from spacy.language import Language\n",
    "# install using pip install googletrans\n",
    "from googletrans import Translator\n",
    "\n",
    "import pycld2 as cld2\n",
    "\n",
    "\n",
    "\n",
    "\n",
    "\n",
    "def detect_lang(text):\n",
    "    translator = Translator()    \n",
    "\n",
    "    #result = translator.translate(text, dest='en')\n",
    "    reliable, index, top_3_choices,vecs = cld2.detect(text, returnVectors=True)\n",
    "    print(index, top_3_choices)\n",
    "    #return result\n"
   ]
  },
  {
   "cell_type": "code",
   "execution_count": null,
   "metadata": {},
   "outputs": [],
   "source": [
    "\n",
    "\n",
    "directory_split =  \"/home/sammich/Documents/BeCode/becode_projects/KPMG---CLA-processing/data/split_pdfs2\"  \n",
    "directory_regular= \"/home/sammich/Documents/BeCode/becode_projects/KPMG---CLA-processing/data/standard_pdfs\"\n",
    "\n",
    "PC_split = os.listdir(f\"{directory_split}\")\n",
    "PC_regular = os.listdir(f\"{directory_regular}\")\n",
    "        \n",
    "for pc in PC_split:\n",
    "    pc_files = os.listdir(f\"{directory_split}/{pc}\")\n",
    "    for pdf in pc_files:\n",
    "        print (pdf)\n",
    "        page = 2\n",
    "        cla_dict = {}    \n",
    "        cla_dict[pdf] = split_lang_divider(pc, pdf, page)\n",
    "        print(cla_dict[pdf])\n",
    "        print(detect_lang(cla_dict[pdf]))\n",
    "    print(cla_dict)\n",
    "   \n"
   ]
  },
  {
   "cell_type": "markdown",
   "metadata": {},
   "source": []
  }
 ],
 "metadata": {
  "kernelspec": {
   "display_name": "base",
   "language": "python",
   "name": "python3"
  },
  "language_info": {
   "codemirror_mode": {
    "name": "ipython",
    "version": 3
   },
   "file_extension": ".py",
   "mimetype": "text/x-python",
   "name": "python",
   "nbconvert_exporter": "python",
   "pygments_lexer": "ipython3",
   "version": "3.7.12"
  },
  "orig_nbformat": 4,
  "vscode": {
   "interpreter": {
    "hash": "c8d57a0f13d636405d6879443318fafb29486b6db7cd47c7617fe26b594f1783"
   }
  }
 },
 "nbformat": 4,
 "nbformat_minor": 2
}
