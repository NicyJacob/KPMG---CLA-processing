{
 "cells": [
  {
   "cell_type": "code",
   "execution_count": 5,
   "id": "36bbaf68",
   "metadata": {},
   "outputs": [],
   "source": [
    "import fitz\n",
    "\n",
    "\n",
    "def classifier(pdf_file):\n",
    "    try:\n",
    "        with open(pdf_file,\"rb\") as f:\n",
    "            pdf = fitz.open(f)\n",
    "            file_found = True\n",
    "            res = []\n",
    "            for page in pdf:\n",
    "                image_area = 0.0\n",
    "                text_area = 0.0\n",
    "                for b in page.get_text(\"blocks\"):\n",
    "                    if '<image:' in b[4]:\n",
    "                        r = fitz.Rect(b[:4])\n",
    "                        image_area = image_area + abs(r)\n",
    "                    else:\n",
    "                        r = fitz.Rect(b[:4])\n",
    "                        text_area = text_area + abs(r)\n",
    "                if image_area == 0.0 and text_area != 0.0:\n",
    "                    res.append(1)\n",
    "                if text_area == 0.0 and image_area != 0.0:\n",
    "                    res.append(0)\n",
    "                if text_area != 0.0 and image_area != 0.0:\n",
    "                    res.append(2)\n",
    "                return res\n",
    "    except IOError:\n",
    "        pass\n",
    "    \n",
    "    "
   ]
  },
  {
   "cell_type": "code",
   "execution_count": 6,
   "id": "c5f5b36d",
   "metadata": {},
   "outputs": [],
   "source": [
    "# libraries used\n",
    "import pandas as pd\n",
    "\n",
    "root_data_path = \"C:/Users/nicyj/becode/KPMG\"\n",
    "data = pd.read_excel(root_data_path + '/Data/CLA_meta_from_2018_-_Translated_commitee_details.xlsx',engine='openpyxl')\n"
   ]
  },
  {
   "cell_type": "code",
   "execution_count": 7,
   "id": "1a15d920",
   "metadata": {},
   "outputs": [
    {
     "name": "stdout",
     "output_type": "stream",
     "text": [
      "5690\n"
     ]
    }
   ],
   "source": [
    "for (columnName, columnData) in data.items():\n",
    "    if columnName == 'filename':\n",
    "        file_list = columnData.values\n",
    "print(len(file_list))"
   ]
  },
  {
   "cell_type": "code",
   "execution_count": 8,
   "id": "e2267c93",
   "metadata": {},
   "outputs": [
    {
     "data": {
      "text/html": [
       "<div>\n",
       "<style scoped>\n",
       "    .dataframe tbody tr th:only-of-type {\n",
       "        vertical-align: middle;\n",
       "    }\n",
       "\n",
       "    .dataframe tbody tr th {\n",
       "        vertical-align: top;\n",
       "    }\n",
       "\n",
       "    .dataframe thead th {\n",
       "        text-align: right;\n",
       "    }\n",
       "</style>\n",
       "<table border=\"1\" class=\"dataframe\">\n",
       "  <thead>\n",
       "    <tr style=\"text-align: right;\">\n",
       "      <th></th>\n",
       "      <th>deposit_number</th>\n",
       "      <th>jc_number</th>\n",
       "      <th>Omschrijving</th>\n",
       "      <th>Categorie</th>\n",
       "      <th>jc_name_fr</th>\n",
       "      <th>jc_name_nl</th>\n",
       "      <th>cla_title_en</th>\n",
       "      <th>cla_title_nl</th>\n",
       "      <th>retrieve_date</th>\n",
       "      <th>label</th>\n",
       "      <th>...</th>\n",
       "      <th>Unnamed: 37</th>\n",
       "      <th>Unnamed: 38</th>\n",
       "      <th>Unnamed: 39</th>\n",
       "      <th>Unnamed: 40</th>\n",
       "      <th>Unnamed: 41</th>\n",
       "      <th>Unnamed: 42</th>\n",
       "      <th>Unnamed: 43</th>\n",
       "      <th>Unnamed: 44</th>\n",
       "      <th>Unnamed: 45</th>\n",
       "      <th>classifier_result</th>\n",
       "    </tr>\n",
       "  </thead>\n",
       "  <tbody>\n",
       "    <tr>\n",
       "      <th>0</th>\n",
       "      <td>175235</td>\n",
       "      <td>100.0</td>\n",
       "      <td>Aanvullend Paritair Comité voor de werklieden</td>\n",
       "      <td>Paritaire organen bevoegd voor de werknemers d...</td>\n",
       "      <td>auxiliary joint committee for workers</td>\n",
       "      <td>aanvullend paritair comite voor de werklieden</td>\n",
       "      <td>Minimum hourly wage</td>\n",
       "      <td>Minimumurloon</td>\n",
       "      <td>2022-12-07</td>\n",
       "      <td>new</td>\n",
       "      <td>...</td>\n",
       "      <td>NaN</td>\n",
       "      <td>NaN</td>\n",
       "      <td>NaN</td>\n",
       "      <td>NaN</td>\n",
       "      <td>NaN</td>\n",
       "      <td>NaN</td>\n",
       "      <td>NaN</td>\n",
       "      <td>NaN</td>\n",
       "      <td>NaN</td>\n",
       "      <td>mixed</td>\n",
       "    </tr>\n",
       "    <tr>\n",
       "      <th>1</th>\n",
       "      <td>170873</td>\n",
       "      <td>100.0</td>\n",
       "      <td>Aanvullend Paritair Comité voor de werklieden</td>\n",
       "      <td>Paritaire organen bevoegd voor de werknemers d...</td>\n",
       "      <td>auxiliary joint committee for workers</td>\n",
       "      <td>aanvullend paritair comite voor de werklieden</td>\n",
       "      <td>Sectoral agreement 2021-2022 - purchasing power</td>\n",
       "      <td>Sectoral agreement 2021-2022 - purchasing power</td>\n",
       "      <td>2022-12-07</td>\n",
       "      <td>new</td>\n",
       "      <td>...</td>\n",
       "      <td>NaN</td>\n",
       "      <td>NaN</td>\n",
       "      <td>NaN</td>\n",
       "      <td>NaN</td>\n",
       "      <td>NaN</td>\n",
       "      <td>NaN</td>\n",
       "      <td>NaN</td>\n",
       "      <td>NaN</td>\n",
       "      <td>NaN</td>\n",
       "      <td>mixed</td>\n",
       "    </tr>\n",
       "    <tr>\n",
       "      <th>2</th>\n",
       "      <td>172225</td>\n",
       "      <td>100.0</td>\n",
       "      <td>Aanvullend Paritair Comité voor de werklieden</td>\n",
       "      <td>Paritaire organen bevoegd voor de werknemers d...</td>\n",
       "      <td>auxiliary joint committee for workers</td>\n",
       "      <td>aanvullend paritair comite voor de werklieden</td>\n",
       "      <td>Exemption from the adapted availability obliga...</td>\n",
       "      <td>Exemption from the obligation of adjusted avai...</td>\n",
       "      <td>2022-12-07</td>\n",
       "      <td>new</td>\n",
       "      <td>...</td>\n",
       "      <td>NaN</td>\n",
       "      <td>NaN</td>\n",
       "      <td>NaN</td>\n",
       "      <td>NaN</td>\n",
       "      <td>NaN</td>\n",
       "      <td>NaN</td>\n",
       "      <td>NaN</td>\n",
       "      <td>NaN</td>\n",
       "      <td>NaN</td>\n",
       "      <td>mixed</td>\n",
       "    </tr>\n",
       "    <tr>\n",
       "      <th>3</th>\n",
       "      <td>172224</td>\n",
       "      <td>100.0</td>\n",
       "      <td>Aanvullend Paritair Comité voor de werklieden</td>\n",
       "      <td>Paritaire organen bevoegd voor de werknemers d...</td>\n",
       "      <td>auxiliary joint committee for workers</td>\n",
       "      <td>aanvullend paritair comite voor de werklieden</td>\n",
       "      <td>Credit time 2021-2022</td>\n",
       "      <td>Time credit 2021-2022</td>\n",
       "      <td>2022-12-07</td>\n",
       "      <td>modified</td>\n",
       "      <td>...</td>\n",
       "      <td>NaN</td>\n",
       "      <td>NaN</td>\n",
       "      <td>NaN</td>\n",
       "      <td>NaN</td>\n",
       "      <td>NaN</td>\n",
       "      <td>NaN</td>\n",
       "      <td>NaN</td>\n",
       "      <td>NaN</td>\n",
       "      <td>NaN</td>\n",
       "      <td>mixed</td>\n",
       "    </tr>\n",
       "    <tr>\n",
       "      <th>4</th>\n",
       "      <td>172223</td>\n",
       "      <td>100.0</td>\n",
       "      <td>Aanvullend Paritair Comité voor de werklieden</td>\n",
       "      <td>Paritaire organen bevoegd voor de werknemers d...</td>\n",
       "      <td>auxiliary joint committee for workers</td>\n",
       "      <td>aanvullend paritair comite voor de werklieden</td>\n",
       "      <td>Increase in the internal overtime limit and th...</td>\n",
       "      <td>Increasing the internal overtime limit and the...</td>\n",
       "      <td>2022-12-07</td>\n",
       "      <td>new</td>\n",
       "      <td>...</td>\n",
       "      <td>NaN</td>\n",
       "      <td>NaN</td>\n",
       "      <td>NaN</td>\n",
       "      <td>NaN</td>\n",
       "      <td>NaN</td>\n",
       "      <td>NaN</td>\n",
       "      <td>NaN</td>\n",
       "      <td>NaN</td>\n",
       "      <td>NaN</td>\n",
       "      <td>mixed</td>\n",
       "    </tr>\n",
       "  </tbody>\n",
       "</table>\n",
       "<p>5 rows × 47 columns</p>\n",
       "</div>"
      ],
      "text/plain": [
       "   deposit_number  jc_number                                   Omschrijving  \\\n",
       "0          175235      100.0  Aanvullend Paritair Comité voor de werklieden   \n",
       "1          170873      100.0  Aanvullend Paritair Comité voor de werklieden   \n",
       "2          172225      100.0  Aanvullend Paritair Comité voor de werklieden   \n",
       "3          172224      100.0  Aanvullend Paritair Comité voor de werklieden   \n",
       "4          172223      100.0  Aanvullend Paritair Comité voor de werklieden   \n",
       "\n",
       "                                           Categorie  \\\n",
       "0  Paritaire organen bevoegd voor de werknemers d...   \n",
       "1  Paritaire organen bevoegd voor de werknemers d...   \n",
       "2  Paritaire organen bevoegd voor de werknemers d...   \n",
       "3  Paritaire organen bevoegd voor de werknemers d...   \n",
       "4  Paritaire organen bevoegd voor de werknemers d...   \n",
       "\n",
       "                              jc_name_fr  \\\n",
       "0  auxiliary joint committee for workers   \n",
       "1  auxiliary joint committee for workers   \n",
       "2  auxiliary joint committee for workers   \n",
       "3  auxiliary joint committee for workers   \n",
       "4  auxiliary joint committee for workers   \n",
       "\n",
       "                                      jc_name_nl  \\\n",
       "0  aanvullend paritair comite voor de werklieden   \n",
       "1  aanvullend paritair comite voor de werklieden   \n",
       "2  aanvullend paritair comite voor de werklieden   \n",
       "3  aanvullend paritair comite voor de werklieden   \n",
       "4  aanvullend paritair comite voor de werklieden   \n",
       "\n",
       "                                        cla_title_en  \\\n",
       "0                                Minimum hourly wage   \n",
       "1    Sectoral agreement 2021-2022 - purchasing power   \n",
       "2  Exemption from the adapted availability obliga...   \n",
       "3                              Credit time 2021-2022   \n",
       "4  Increase in the internal overtime limit and th...   \n",
       "\n",
       "                                        cla_title_nl retrieve_date     label  \\\n",
       "0                                      Minimumurloon    2022-12-07       new   \n",
       "1    Sectoral agreement 2021-2022 - purchasing power    2022-12-07       new   \n",
       "2  Exemption from the obligation of adjusted avai...    2022-12-07       new   \n",
       "3                              Time credit 2021-2022    2022-12-07  modified   \n",
       "4  Increasing the internal overtime limit and the...    2022-12-07       new   \n",
       "\n",
       "   ... Unnamed: 37 Unnamed: 38 Unnamed: 39 Unnamed: 40 Unnamed: 41  \\\n",
       "0  ...         NaN         NaN         NaN         NaN         NaN   \n",
       "1  ...         NaN         NaN         NaN         NaN         NaN   \n",
       "2  ...         NaN         NaN         NaN         NaN         NaN   \n",
       "3  ...         NaN         NaN         NaN         NaN         NaN   \n",
       "4  ...         NaN         NaN         NaN         NaN         NaN   \n",
       "\n",
       "  Unnamed: 42 Unnamed: 43  Unnamed: 44 Unnamed: 45 classifier_result  \n",
       "0         NaN         NaN          NaN         NaN             mixed  \n",
       "1         NaN         NaN          NaN         NaN             mixed  \n",
       "2         NaN         NaN          NaN         NaN             mixed  \n",
       "3         NaN         NaN          NaN         NaN             mixed  \n",
       "4         NaN         NaN          NaN         NaN             mixed  \n",
       "\n",
       "[5 rows x 47 columns]"
      ]
     },
     "execution_count": 8,
     "metadata": {},
     "output_type": "execute_result"
    }
   ],
   "source": [
    "root_path = \"C:/Users/nicyj/becode/KPMG/Data/clapdfs/\"\n",
    "classifier_result = []\n",
    "for i in range(len(file_list)):\n",
    "    file_path = file_list[i]\n",
    "    #print(file_path)\n",
    "    path = root_path+file_path\n",
    "    result = classifier(path)\n",
    "    if result is None:\n",
    "        output = 'missing'\n",
    "    else:\n",
    "        if 0 in result:\n",
    "            output = 'image'\n",
    "        if 1 in result:\n",
    "            output = 'text'\n",
    "        else:\n",
    "            output = 'mixed'\n",
    "   \n",
    "    classifier_result.append(output)\n",
    "    #print(output)\n",
    "    \n",
    "data['classifier_result'] = classifier_result\n",
    "data.head()"
   ]
  },
  {
   "cell_type": "code",
   "execution_count": 9,
   "id": "838bf4f0",
   "metadata": {},
   "outputs": [
    {
     "data": {
      "text/plain": [
       "missing    3400\n",
       "mixed      2290\n",
       "Name: classifier_result, dtype: int64"
      ]
     },
     "execution_count": 9,
     "metadata": {},
     "output_type": "execute_result"
    }
   ],
   "source": [
    "data['classifier_result'].value_counts()"
   ]
  },
  {
   "cell_type": "code",
   "execution_count": 10,
   "id": "b2c5b1aa",
   "metadata": {},
   "outputs": [
    {
     "data": {
      "text/plain": [
       "Index(['deposit_number', 'jc_number', 'Omschrijving', 'Categorie',\n",
       "       'jc_name_fr', 'jc_name_nl', 'cla_title_en', 'cla_title_nl',\n",
       "       'retrieve_date', 'label', 'themes_en', 'themes_nl', 'signature_date',\n",
       "       'validity_date', 'deposit_date', 'record_date', 'deposit_reg_date',\n",
       "       'enforced', 'royal_decree_date', 'notice_depositMB_date',\n",
       "       'pub_roy_decree_date', 'corrected_date', 'filename', 'doc_size',\n",
       "       'scope_en', 'scope_nl', 'no_scope_en', 'no_scope_nl', 'themes_en.1',\n",
       "       'Unnamed: 29', 'Unnamed: 30', 'Unnamed: 31', 'Unnamed: 32',\n",
       "       'Unnamed: 33', 'Unnamed: 34', 'Unnamed: 35', 'Unnamed: 36',\n",
       "       'Unnamed: 37', 'Unnamed: 38', 'Unnamed: 39', 'Unnamed: 40',\n",
       "       'Unnamed: 41', 'Unnamed: 42', 'Unnamed: 43', 'Unnamed: 44',\n",
       "       'Unnamed: 45', 'classifier_result'],\n",
       "      dtype='object')"
      ]
     },
     "execution_count": 10,
     "metadata": {},
     "output_type": "execute_result"
    }
   ],
   "source": [
    "data.columns"
   ]
  },
  {
   "cell_type": "code",
   "execution_count": 11,
   "id": "93d8797c",
   "metadata": {},
   "outputs": [
    {
     "data": {
      "text/plain": [
       "new         4777\n",
       "modified     913\n",
       "Name: label, dtype: int64"
      ]
     },
     "execution_count": 11,
     "metadata": {},
     "output_type": "execute_result"
    }
   ],
   "source": [
    "data['label'].value_counts()\n"
   ]
  },
  {
   "cell_type": "code",
   "execution_count": 12,
   "id": "b1aaf40c",
   "metadata": {},
   "outputs": [
    {
     "data": {
      "text/plain": [
       "unemployment scheme with company supplement (rcc)    893\n",
       "wages                                                692\n",
       "time credit                                          500\n",
       "salaries                                             418\n",
       "supplementary pensions and group insurance           294\n",
       "                                                    ... \n",
       "working time                                           1\n",
       "flexibility of working time                            1\n",
       "sector or company specific premium                     1\n",
       "travel allowances                                      1\n",
       "operation within the joint committee                   1\n",
       "Name: themes_en.1, Length: 102, dtype: int64"
      ]
     },
     "execution_count": 12,
     "metadata": {},
     "output_type": "execute_result"
    }
   ],
   "source": [
    "data['themes_en.1'].value_counts()"
   ]
  },
  {
   "cell_type": "code",
   "execution_count": 15,
   "id": "2560c3ee",
   "metadata": {},
   "outputs": [],
   "source": [
    "types = ['wages','salaries']\n",
    "# selecting rows based on condition \n",
    "salaries_df = data[data['themes_en.1'].isin(types)] \n",
    "salaries_df.shape\n",
    "# saving the DataFrame as a CSV file\n",
    "salary_files = salaries_df.to_csv('salary_files.csv', index = True)\n"
   ]
  },
  {
   "cell_type": "code",
   "execution_count": null,
   "id": "9d5dc72f",
   "metadata": {},
   "outputs": [],
   "source": []
  }
 ],
 "metadata": {
  "kernelspec": {
   "display_name": "cla",
   "language": "python",
   "name": "cla"
  },
  "language_info": {
   "codemirror_mode": {
    "name": "ipython",
    "version": 3
   },
   "file_extension": ".py",
   "mimetype": "text/x-python",
   "name": "python",
   "nbconvert_exporter": "python",
   "pygments_lexer": "ipython3",
   "version": "3.11.0"
  }
 },
 "nbformat": 4,
 "nbformat_minor": 5
}
