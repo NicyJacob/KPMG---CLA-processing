{
 "cells": [
  {
   "cell_type": "code",
   "execution_count": 6,
   "metadata": {},
   "outputs": [],
   "source": [
    "import os\n",
    "import pycld2 as cld2\n",
    "import fasttext\n"
   ]
  },
  {
   "cell_type": "code",
   "execution_count": 9,
   "metadata": {},
   "outputs": [],
   "source": [
    "text_dir = './data/texts/Group_A'"
   ]
  },
  {
   "cell_type": "code",
   "execution_count": 10,
   "metadata": {},
   "outputs": [
    {
     "name": "stderr",
     "output_type": "stream",
     "text": [
      "Warning : `load_model` does not return WordVectorModel or SupervisedModel any more, but a `FastText` object which is very similar.\n"
     ]
    }
   ],
   "source": [
    "lid_model = fasttext.load_model('./data/lid.176.bin')"
   ]
  },
  {
   "cell_type": "code",
   "execution_count": 20,
   "metadata": {},
   "outputs": [
    {
     "name": "stderr",
     "output_type": "stream",
     "text": [
      "Warning : `load_model` does not return WordVectorModel or SupervisedModel any more, but a `FastText` object which is very similar.\n"
     ]
    },
    {
     "ename": "FileNotFoundError",
     "evalue": "[Errno 2] No such file or directory: '110-2019-009376.txt'",
     "output_type": "error",
     "traceback": [
      "\u001b[0;31m---------------------------------------------------------------------------\u001b[0m",
      "\u001b[0;31mFileNotFoundError\u001b[0m                         Traceback (most recent call last)",
      "\u001b[0;32m/tmp/ipykernel_43778/2434148464.py\u001b[0m in \u001b[0;36m<module>\u001b[0;34m\u001b[0m\n\u001b[1;32m     59\u001b[0m \u001b[0mlang_dict\u001b[0m \u001b[0;34m=\u001b[0m \u001b[0;34m{\u001b[0m\u001b[0;34m}\u001b[0m\u001b[0;34m\u001b[0m\u001b[0;34m\u001b[0m\u001b[0m\n\u001b[1;32m     60\u001b[0m \u001b[0;32mfor\u001b[0m \u001b[0mtext_file\u001b[0m \u001b[0;32min\u001b[0m \u001b[0mos\u001b[0m\u001b[0;34m.\u001b[0m\u001b[0mlistdir\u001b[0m\u001b[0;34m(\u001b[0m\u001b[0mdirectory\u001b[0m\u001b[0;34m)\u001b[0m\u001b[0;34m:\u001b[0m\u001b[0;34m\u001b[0m\u001b[0;34m\u001b[0m\u001b[0m\n\u001b[0;32m---> 61\u001b[0;31m     \u001b[0;32mwith\u001b[0m \u001b[0mopen\u001b[0m \u001b[0;34m(\u001b[0m\u001b[0mstr\u001b[0m\u001b[0;34m(\u001b[0m\u001b[0mtext_file\u001b[0m\u001b[0;34m)\u001b[0m\u001b[0;34m)\u001b[0m \u001b[0;32mas\u001b[0m \u001b[0mf\u001b[0m\u001b[0;34m:\u001b[0m\u001b[0;34m\u001b[0m\u001b[0;34m\u001b[0m\u001b[0m\n\u001b[0m\u001b[1;32m     62\u001b[0m         \u001b[0mstring\u001b[0m \u001b[0;34m=\u001b[0m \u001b[0mf\u001b[0m\u001b[0;34m.\u001b[0m\u001b[0mread\u001b[0m\u001b[0;34m(\u001b[0m\u001b[0;34m)\u001b[0m\u001b[0;34m\u001b[0m\u001b[0;34m\u001b[0m\u001b[0m\n\u001b[1;32m     63\u001b[0m         \u001b[0mprint\u001b[0m\u001b[0;34m(\u001b[0m\u001b[0mstring\u001b[0m\u001b[0;34m)\u001b[0m\u001b[0;34m\u001b[0m\u001b[0;34m\u001b[0m\u001b[0m\n",
      "\u001b[0;31mFileNotFoundError\u001b[0m: [Errno 2] No such file or directory: '110-2019-009376.txt'"
     ]
    }
   ],
   "source": [
    "\n",
    "from fastapi import FastAPI, HTTPException\n",
    "\n",
    "import fasttext\n",
    "from fasttext import tokenize\n",
    "import re\n",
    "import os\n",
    "\n",
    "app = FastAPI()\n",
    "\n",
    "# I am using lid.176.bin, which is faster and slightly more accurate,\n",
    "# there is a compressed version avaiable at https://fasttext.cc/docs/en/language-identification.html\n",
    "\n",
    "fasttext_language_model = fasttext.load_model('./data/lid.176.bin')\n",
    "white_space_pattern = re.compile(r\"\\s\")\n",
    "\n",
    "\n",
    "def preprocess_text_for_language_detection(text: str):\n",
    "    \"\"\"\n",
    "    Cleans the text as per fasttext requirements.\n",
    "    The requirements can be found here: https://pypi.org/project/fasttext/\n",
    "    \n",
    "    :text: str: text to clean\n",
    "    :returns: str: cleaned text\n",
    "    \"\"\"\n",
    "    # fastText assumes UTF-8 encoded text\n",
    "    text = str(text)\n",
    "    \n",
    "    # fastText is not aware of UTF-8 whitespace\n",
    "    # Replace all white space with space\n",
    "    text = white_space_pattern.sub(text, \" \")\n",
    "    \n",
    "    # Tokenize text, per fastext function and rejoin\n",
    "    tokens = tokenize(text)\n",
    "    text = \" \".join(tokens)\n",
    "    n = len(tokens)\n",
    "    \n",
    "    # Remove white space char as it affects the model accuracy\n",
    "    text = text.replace(\"</s>\", \"\")\n",
    "    \n",
    "    return text.lower()\n",
    "\n",
    "\n",
    "@app.get(\"/language_detect/\")\n",
    "def identify_languages(text: str, no_of_languages: int =1, threshold: float=0.0):\n",
    "\n",
    "    if len(text) == 0:\n",
    "        raise HTTPException(status_code=406, detail=\"Text field is empty\")\n",
    "    clean_text = preprocess_text_for_language_detection(text)\n",
    "    if len(clean_text) == 0:\n",
    "        raise HTTPException(status_code=406, detail=\"Cleaned text is empty\")\n",
    "    ft_output = fasttext_language_model.predict(clean_text, no_of_languages, threshold=threshold)\n",
    "    # format output\n",
    "    result = [(ft_output[0][i][-2:], ft_output[1][i]) for i in range(len(ft_output[0]))]\n",
    "    print(result)\n",
    "    return result\n",
    "\n",
    "directory = './data/pdfs_salaries_to_text/110'\n",
    "\n",
    "lang_dict = {}\n",
    "for text_file in os.listdir(directory):\n",
    "    with open (text_file) as f:\n",
    "        string = f.read()\n",
    "        print(string)\n",
    "        text_good = preprocess_text_for_language_detection(string)\n",
    "        print(text_good)\n",
    "        lang = identify_languages(text_good)\n",
    "        lang_dict[text_file] = lang"
   ]
  }
 ],
 "metadata": {
  "kernelspec": {
   "display_name": "base",
   "language": "python",
   "name": "python3"
  },
  "language_info": {
   "codemirror_mode": {
    "name": "ipython",
    "version": 3
   },
   "file_extension": ".py",
   "mimetype": "text/x-python",
   "name": "python",
   "nbconvert_exporter": "python",
   "pygments_lexer": "ipython3",
   "version": "3.7.12"
  },
  "orig_nbformat": 4,
  "vscode": {
   "interpreter": {
    "hash": "c8d57a0f13d636405d6879443318fafb29486b6db7cd47c7617fe26b594f1783"
   }
  }
 },
 "nbformat": 4,
 "nbformat_minor": 2
}
