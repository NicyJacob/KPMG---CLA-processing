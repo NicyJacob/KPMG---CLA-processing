{
 "cells": [
  {
   "cell_type": "code",
   "execution_count": 1,
   "metadata": {},
   "outputs": [
    {
     "ename": "ModuleNotFoundError",
     "evalue": "No module named 'pycld2'",
     "output_type": "error",
     "traceback": [
      "\u001b[0;31m---------------------------------------------------------------------------\u001b[0m",
      "\u001b[0;31mModuleNotFoundError\u001b[0m                       Traceback (most recent call last)",
      "\u001b[0;32m/tmp/ipykernel_42182/1346323838.py\u001b[0m in \u001b[0;36m<module>\u001b[0;34m\u001b[0m\n\u001b[1;32m      1\u001b[0m \u001b[0;32mimport\u001b[0m \u001b[0mos\u001b[0m\u001b[0;34m\u001b[0m\u001b[0;34m\u001b[0m\u001b[0m\n\u001b[0;32m----> 2\u001b[0;31m \u001b[0;32mimport\u001b[0m \u001b[0mpycld2\u001b[0m \u001b[0;32mas\u001b[0m \u001b[0mcld2\u001b[0m\u001b[0;34m\u001b[0m\u001b[0;34m\u001b[0m\u001b[0m\n\u001b[0m\u001b[1;32m      3\u001b[0m \u001b[0;32mimport\u001b[0m \u001b[0mfasttext\u001b[0m\u001b[0;34m\u001b[0m\u001b[0;34m\u001b[0m\u001b[0m\n",
      "\u001b[0;31mModuleNotFoundError\u001b[0m: No module named 'pycld2'"
     ]
    }
   ],
   "source": [
    "import os\n",
    "import pycld2 as cld2\n",
    "import fasttext\n"
   ]
  },
  {
   "cell_type": "code",
   "execution_count": null,
   "metadata": {},
   "outputs": [],
   "source": [
    "text_dir = './data/texts/Group_A'"
   ]
  },
  {
   "cell_type": "code",
   "execution_count": 3,
   "metadata": {},
   "outputs": [
    {
     "name": "stderr",
     "output_type": "stream",
     "text": [
      "Warning : `load_model` does not return WordVectorModel or SupervisedModel any more, but a `FastText` object which is very similar.\n"
     ]
    }
   ],
   "source": [
    "lid_model = fasttext.load_model('lid.176.bin')"
   ]
  },
  {
   "cell_type": "code",
   "execution_count": 5,
   "metadata": {},
   "outputs": [
    {
     "name": "stderr",
     "output_type": "stream",
     "text": [
      "Warning : `load_model` does not return WordVectorModel or SupervisedModel any more, but a `FastText` object which is very similar.\n"
     ]
    }
   ],
   "source": [
    "\n",
    "from fastapi import FastAPI, HTTPException\n",
    "\n",
    "import fasttext\n",
    "from fasttext import tokenize\n",
    "import re\n",
    "import os\n",
    "\n",
    "app = FastAPI()\n",
    "\n",
    "# I am using lid.176.bin, which is faster and slightly more accurate,\n",
    "# there is a compressed version avaiable at https://fasttext.cc/docs/en/language-identification.html\n",
    "\n",
    "fasttext_language_model = fasttext.load_model('lid.176.bin')\n",
    "white_space_pattern = re.compile(r\"\\s\")\n",
    "\n",
    "\n",
    "def preprocess_text_for_language_detection(text: str):\n",
    "    \"\"\"\n",
    "    Cleans the text as per fasttext requirements.\n",
    "    The requirements can be found here: https://pypi.org/project/fasttext/\n",
    "    \n",
    "    :text: str: text to clean\n",
    "    :returns: str: cleaned text\n",
    "    \"\"\"\n",
    "    # fastText assumes UTF-8 encoded text\n",
    "    text = str(text)\n",
    "    \n",
    "    # fastText is not aware of UTF-8 whitespace\n",
    "    # Replace all white space with space\n",
    "    text = white_space_pattern.sub(text, \" \")\n",
    "    \n",
    "    # Tokenize text, per fastext function and rejoin\n",
    "    tokens = tokenize(text)\n",
    "    text = \" \".join(tokens)\n",
    "    n = len(tokens)\n",
    "    \n",
    "    # Remove white space char as it affects the model accuracy\n",
    "    text = text.replace(\"</s>\", \"\")\n",
    "    \n",
    "    return text.lower()\n",
    "\n",
    "\n",
    "@app.get(\"/language_detect/\")\n",
    "def identify_languages(text: str, no_of_languages: int =1, threshold: float=0.0):\n",
    "\n",
    "    if len(text) == 0:\n",
    "        raise HTTPException(status_code=406, detail=\"Text field is empty\")\n",
    "    clean_text = preprocess_text_for_language_detection(text)\n",
    "    if len(clean_text) == 0:\n",
    "        raise HTTPException(status_code=406, detail=\"Cleaned text is empty\")\n",
    "    ft_output = fasttext_language_model.predict(clean_text, no_of_languages, threshold=threshold)\n",
    "    # format output\n",
    "    result = [(ft_output[0][i][-2:], ft_output[1][i]) for i in range(len(ft_output[0]))]\n",
    "    print(result)\n",
    "    return result"
   ]
  }
 ],
 "metadata": {
  "kernelspec": {
   "display_name": "base",
   "language": "python",
   "name": "python3"
  },
  "language_info": {
   "codemirror_mode": {
    "name": "ipython",
    "version": 3
   },
   "file_extension": ".py",
   "mimetype": "text/x-python",
   "name": "python",
   "nbconvert_exporter": "python",
   "pygments_lexer": "ipython3",
   "version": "3.7.12"
  },
  "orig_nbformat": 4,
  "vscode": {
   "interpreter": {
    "hash": "c8d57a0f13d636405d6879443318fafb29486b6db7cd47c7617fe26b594f1783"
   }
  }
 },
 "nbformat": 4,
 "nbformat_minor": 2
}
