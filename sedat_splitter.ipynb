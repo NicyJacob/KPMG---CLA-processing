{
 "cells": [
  {
   "cell_type": "code",
   "execution_count": 24,
   "metadata": {},
   "outputs": [
    {
     "name": "stdout",
     "output_type": "stream",
     "text": [
      "210\n",
      "Split pdfs: 0\n",
      "{'210': 0}\n",
      "110\n",
      "Split pdfs: 0\n",
      "{'210': 0, '110': 0}\n",
      "121\n",
      "Split pdfs: 30\n",
      "{'210': 0, '110': 0, '121': 30}\n",
      "149.02\n"
     ]
    }
   ],
   "source": [
    "\"\"\"\n",
    "Program expects Data/A/100/something.pdf structure\n",
    "Create a \"splitted\" folder for the output and then run the program\n",
    "Splits the pages in half if the longest line is less than 60 characters a.k.a\n",
    "there are 2 columns of text\n",
    "\"\"\"\n",
    "import pdfminer\n",
    "import pdfrw\n",
    "import alive_progress\n",
    "\n",
    "import sys\n",
    "import os\n",
    "from alive_progress import alive_bar\n",
    "from pdfminer.high_level import extract_text\n",
    " \n",
    "directory = \"./data/cla_pdfs\"\n",
    "from pdfrw import PdfReader, PdfWriter, PageMerge\n",
    " \n",
    "split_dir= './data/split_pdfs/'\n",
    "os.mkdir(split_dir)\n",
    "\n",
    " \n",
    "def splitpage(src):\n",
    "    \"\"\"Split a page into two (left and right)\"\"\"\n",
    "    # Yield a result for each half of the page\n",
    "    for x_pos in (0, 0.5):\n",
    "        yield PageMerge().add(src, viewrect=(x_pos, 0, 0.5, 1)).render()\n",
    " \n",
    " \n",
    "# inpfn = sys.argv[1:]\n",
    "# outfn = 'unspread.' + os.path.basename(inpfn)\n",
    "split = 0\n",
    "split_dict = {}\n",
    "jc_numbers= os.listdir(directory)\n",
    "for dir in jc_numbers:\n",
    "    print(dir)\n",
    "    \n",
    "    # for pc in os.listdir(f\"{directory}/{dir}\"):\n",
    "    for document in os.listdir(f\"{directory}/{dir}\"):\n",
    "        text = extract_text(f\"{directory}/{dir}/{document}\")\n",
    "        text = text.splitlines()\n",
    "        if len(max(text, key=len)) < 60:\n",
    "            writer = PdfWriter()\n",
    "            page_number = 0\n",
    "            for page in PdfReader(f\"{directory}/{dir}/{document}\").pages:\n",
    "                writer.addpages(splitpage(page))\n",
    "            \n",
    "            if os.path.exists(f\"{split_dir}/{dir}\"):\n",
    "                writer.write(f\"{split_dir}/{dir}/{document}\")\n",
    "                split += 1\n",
    "            else:\n",
    "                os.mkdir(f\"{split_dir}/{dir}\")\n",
    "                writer.write(f\"{split_dir}/{dir}/{document}\")\n",
    "                split += 1\n",
    "    split_dict[dir] = split           \n",
    "    print(f\"Split pdfs: {split}\")\n",
    "    print(split_dict)"
   ]
  },
  {
   "cell_type": "code",
   "execution_count": 21,
   "metadata": {},
   "outputs": [
    {
     "name": "stdout",
     "output_type": "stream",
     "text": [
      "['210', '110', '121', '149.02', '202.01', '202', '200', '112', '102.08', '106.01', '315.02', '105', '324', '148', '109', '115', '315.01', '315.03', '322.01', '309', '319.01', '224', '100', '129', '219', '102.07', '326', '140.01', '125.02', '140', '301.05', '140.03', '339.03', '209', '217', '207', '116', '211', '145', '102.03', '336', '104', '203', '314', '332', '316', '124', '225', '144', '312', '328.02', '113', '225.02', '215', '301.01', '143', '313', '133', '320', '310', '325', '102.05', '146', '220', '331', '337', '303.01', '317', '339.02', '303.03', '102.06', '329.01', '323', '120.02', '120', '340', '214', '327.02', '140.05', '328.01', '225.01', '102.01', '125.01', '339.01', '223', '319.02', '149.01', '102.02', '113.04', '322', '226', '125', '152.01', '140.02', '139', '117', '107', '301', '149.04', '102.04', '300', '127', '321', '152', '329.02', '302', '333', '201', '304', '341', '222', '111', '318.02', '130', '142', '118', '126', '152.02', '140.04', '216', '318.01', '114', '327.03', '311', '142.02', '142.03', '102.09', '132', '142.01', '301.02', '319', '329.03', '120.01', '136', '106.02', '149.03', '330', '227', '221', '125.03', '327.01', '329', '306', '327', '120.03', '119', '106.03', '128', '328.03', '307', '142.04']\n"
     ]
    }
   ],
   "source": [
    "print(jc_numbers)"
   ]
  },
  {
   "cell_type": "code",
   "execution_count": null,
   "metadata": {},
   "outputs": [],
   "source": [
    "import os\n",
    "from pdfrw import PdfReader, PdfWriter\n",
    "from alive_progress import alive_bar\n",
    " \n",
    "path = \"./data/Docs/splitdocs\"\n",
    " \n",
    "try:\n",
    "    os.mkdir(\"./data/split_nl/Nederlands\")\n",
    "except:\n",
    "    pass\n",
    " \n",
    "try:\n",
    "    os.mkdir(\"./data/split_fr/Francais\")\n",
    "except:\n",
    "    pass\n",
    " \n",
    "with alive_bar(len(os.listdir(path))) as bar:\n",
    "    for document in os.listdir(path):\n",
    "        writer_NL = PdfWriter()\n",
    "        writer_FR = PdfWriter()\n",
    "        page_number = 0\n",
    "        for page in PdfReader(f\"{path}/{document}\").pages:\n",
    "            page_number += 1\n",
    "            if page_number%2 == 1:\n",
    "                writer_NL.addpage(page)\n",
    "            else:\n",
    "                writer_FR.addpage(page)\n",
    "        os.mkdir(f\"./data/split_nl/Nederlands/\" + str(document)[0:3])\n",
    "        os\n",
    "        writer_NL.write(f\"./data/split_nl/Nederlands/\" + str(document)[0:3] + f\"/NL_{document}\")\n",
    "        writer_FR.write(f\"./data/split_fr/Francais/FR_{document}\")\n",
    "        bar()"
   ]
  }
 ],
 "metadata": {
  "kernelspec": {
   "display_name": "base",
   "language": "python",
   "name": "python3"
  },
  "language_info": {
   "codemirror_mode": {
    "name": "ipython",
    "version": 3
   },
   "file_extension": ".py",
   "mimetype": "text/x-python",
   "name": "python",
   "nbconvert_exporter": "python",
   "pygments_lexer": "ipython3",
   "version": "3.7.12"
  },
  "orig_nbformat": 4,
  "vscode": {
   "interpreter": {
    "hash": "ce9d23c77a8814e371b6f93e2c2a11d1d49e52f540f9ffbb6aeafe475887050f"
   }
  }
 },
 "nbformat": 4,
 "nbformat_minor": 2
}
