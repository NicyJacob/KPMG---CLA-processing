{
 "cells": [
  {
   "cell_type": "code",
   "execution_count": 17,
   "metadata": {},
   "outputs": [
    {
     "ename": "FileNotFoundError",
     "evalue": "[Errno 2] No such file or directory: './data/Docs'",
     "output_type": "error",
     "traceback": [
      "\u001b[0;31m---------------------------------------------------------------------------\u001b[0m",
      "\u001b[0;31mFileNotFoundError\u001b[0m                         Traceback (most recent call last)",
      "\u001b[0;32m/tmp/ipykernel_25923/3195230768.py\u001b[0m in \u001b[0;36m<module>\u001b[0;34m\u001b[0m\n\u001b[1;32m     31\u001b[0m \u001b[0;31m# outfn = 'unspread.' + os.path.basename(inpfn)\u001b[0m\u001b[0;34m\u001b[0m\u001b[0;34m\u001b[0m\u001b[0;34m\u001b[0m\u001b[0m\n\u001b[1;32m     32\u001b[0m \u001b[0msplit\u001b[0m \u001b[0;34m=\u001b[0m \u001b[0;36m0\u001b[0m\u001b[0;34m\u001b[0m\u001b[0;34m\u001b[0m\u001b[0m\n\u001b[0;32m---> 33\u001b[0;31m \u001b[0mjc_numbers\u001b[0m\u001b[0;34m=\u001b[0m \u001b[0mos\u001b[0m\u001b[0;34m.\u001b[0m\u001b[0mlistdir\u001b[0m\u001b[0;34m(\u001b[0m\u001b[0mdirectory\u001b[0m\u001b[0;34m)\u001b[0m\u001b[0;34m\u001b[0m\u001b[0;34m\u001b[0m\u001b[0m\n\u001b[0m\u001b[1;32m     34\u001b[0m \u001b[0;32mfor\u001b[0m \u001b[0mdir\u001b[0m \u001b[0;32min\u001b[0m \u001b[0mjc_numbers\u001b[0m\u001b[0;34m:\u001b[0m\u001b[0;34m\u001b[0m\u001b[0;34m\u001b[0m\u001b[0m\n\u001b[1;32m     35\u001b[0m     \u001b[0mprint\u001b[0m\u001b[0;34m(\u001b[0m\u001b[0mdir\u001b[0m\u001b[0;34m)\u001b[0m\u001b[0;34m\u001b[0m\u001b[0;34m\u001b[0m\u001b[0m\n",
      "\u001b[0;31mFileNotFoundError\u001b[0m: [Errno 2] No such file or directory: './data/Docs'"
     ]
    }
   ],
   "source": [
    "\"\"\"\n",
    "Program expects Data/A/100/something.pdf structure\n",
    "Create a \"splitted\" folder for the output and then run the program\n",
    "Splits the pages in half if the longest line is less than 60 characters a.k.a\n",
    "there are 2 columns of text\n",
    "\"\"\"\n",
    "import pdfminer\n",
    "import pdfrw\n",
    "import alive_progress\n",
    "\n",
    "import sys\n",
    "import os\n",
    "from alive_progress import alive_bar\n",
    "from pdfminer.high_level import extract_text\n",
    " \n",
    "directory = \"./data/cla_pdfs\"\n",
    "from pdfrw import PdfReader, PdfWriter, PageMerge\n",
    " \n",
    "split_dir= './data/split_pdfs/'\n",
    "os.mkdir(split_dir)\n",
    "\n",
    " \n",
    "def splitpage(src):\n",
    "    \"\"\"Split a page into two (left and right)\"\"\"\n",
    "    # Yield a result for each half of the page\n",
    "    for x_pos in (0, 0.5):\n",
    "        yield PageMerge().add(src, viewrect=(x_pos, 0, 0.5, 1)).render()\n",
    " \n",
    " \n",
    "# inpfn = sys.argv[1:]\n",
    "# outfn = 'unspread.' + os.path.basename(inpfn)\n",
    "split = 0\n",
    "jc_numbers= os.listdir(directory)\n",
    "for dir in jc_numbers:\n",
    "    print(dir)\n",
    "    # for pc in os.listdir(f\"{directory}/{dir}\"):\n",
    "    for document in os.listdir(f\"{directory}/{dir}\"):\n",
    "        text = extract_text(f\"{directory}/{dir}/{document}\")\n",
    "        text = text.splitlines()\n",
    "        if len(max(text, key=len)) < 60:\n",
    "            writer = PdfWriter()\n",
    "            page_number = 0\n",
    "            for page in PdfReader(f\"{directory}/{dir}/{document}\").pages:\n",
    "                writer.addpages(splitpage(page))\n",
    "            \n",
    "            if os.path.exists(f\"{split_dir}/{dir}\"):\n",
    "                writer.write(f\"{split_dir}/{dir}/{document}\")\n",
    "                split += 1\n",
    "            else:\n",
    "                os.mkdir(f\"{split_dir}/{dir}\")\n",
    "                writer.write(f\"{split_dir}/{dir}/{document}\")\n",
    "                split += 1\n",
    "                \n",
    "    print(f\"Split pdfs: {split}\")"
   ]
  },
  {
   "cell_type": "code",
   "execution_count": null,
   "metadata": {},
   "outputs": [],
   "source": [
    "import os\n",
    "from pdfrw import PdfReader, PdfWriter\n",
    "from alive_progress import alive_bar\n",
    " \n",
    "path = \"./data/Docs/splitdocs\"\n",
    " \n",
    "try:\n",
    "    os.mkdir(\"./data/split_nl/Nederlands\")\n",
    "except:\n",
    "    pass\n",
    " \n",
    "try:\n",
    "    os.mkdir(\"./data/split_fr/Francais\")\n",
    "except:\n",
    "    pass\n",
    " \n",
    "with alive_bar(len(os.listdir(path))) as bar:\n",
    "    for document in os.listdir(path):\n",
    "        writer_NL = PdfWriter()\n",
    "        writer_FR = PdfWriter()\n",
    "        page_number = 0\n",
    "        for page in PdfReader(f\"{path}/{document}\").pages:\n",
    "            page_number += 1\n",
    "            if page_number%2 == 1:\n",
    "                writer_NL.addpage(page)\n",
    "            else:\n",
    "                writer_FR.addpage(page)\n",
    "        os.mkdir(f\"./data/split_nl/Nederlands/\" + str(document)[0:3])\n",
    "        os\n",
    "        writer_NL.write(f\"./data/split_nl/Nederlands/\" + str(document)[0:3] + f\"/NL_{document}\")\n",
    "        writer_FR.write(f\"./data/split_fr/Francais/FR_{document}\")\n",
    "        bar()"
   ]
  }
 ],
 "metadata": {
  "kernelspec": {
   "display_name": "base",
   "language": "python",
   "name": "python3"
  },
  "language_info": {
   "codemirror_mode": {
    "name": "ipython",
    "version": 3
   },
   "file_extension": ".py",
   "mimetype": "text/x-python",
   "name": "python",
   "nbconvert_exporter": "python",
   "pygments_lexer": "ipython3",
   "version": "3.7.12"
  },
  "orig_nbformat": 4,
  "vscode": {
   "interpreter": {
    "hash": "ce9d23c77a8814e371b6f93e2c2a11d1d49e52f540f9ffbb6aeafe475887050f"
   }
  }
 },
 "nbformat": 4,
 "nbformat_minor": 2
}
